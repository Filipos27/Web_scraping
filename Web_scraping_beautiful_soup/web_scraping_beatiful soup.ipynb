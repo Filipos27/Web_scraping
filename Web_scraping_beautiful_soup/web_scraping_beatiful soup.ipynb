{
 "cells": [
  {
   "cell_type": "markdown",
   "metadata": {},
   "source": [
    "# Web scraping Elipso"
   ]
  },
  {
   "cell_type": "code",
   "execution_count": 1,
   "metadata": {},
   "outputs": [],
   "source": [
    "import csv\n",
    "from bs4 import BeautifulSoup"
   ]
  },
  {
   "cell_type": "code",
   "execution_count": 2,
   "metadata": {},
   "outputs": [],
   "source": [
    "from webdriver_manager.chrome import ChromeDriverManager\n",
    "from selenium import webdriver"
   ]
  },
  {
   "cell_type": "code",
   "execution_count": 8,
   "metadata": {},
   "outputs": [
    {
     "name": "stderr",
     "output_type": "stream",
     "text": [
      "[WDM] - ====== WebDriver manager ======\n"
     ]
    },
    {
     "name": "stdout",
     "output_type": "stream",
     "text": [
      "\n",
      "\n"
     ]
    },
    {
     "name": "stderr",
     "output_type": "stream",
     "text": [
      "[WDM] - Current google-chrome version is 88.0.4324\n",
      "[WDM] - Get LATEST driver version for 88.0.4324\n",
      "[WDM] - Driver [C:\\Users\\Zlatko\\.wdm\\drivers\\chromedriver\\win32\\88.0.4324.96\\chromedriver.exe] found in cache\n"
     ]
    }
   ],
   "source": [
    "driver = webdriver.Chrome(ChromeDriverManager().install())"
   ]
  },
  {
   "cell_type": "code",
   "execution_count": 9,
   "metadata": {},
   "outputs": [],
   "source": [
    "url =\"https://www.pevex.hr\"\n",
    "driver.get(url)"
   ]
  },
  {
   "cell_type": "code",
   "execution_count": 10,
   "metadata": {},
   "outputs": [],
   "source": [
    "def get_url(search_term):\n",
    "    \"\"\"Generate a url from search term\"\"\"\n",
    "    template=\"https://pevex.hr/catalogsearch/result/?q={}\"\n",
    "    search_term=search_term.replace(\" \",\"+\")\n",
    "    return template.format(search_term)"
   ]
  },
  {
   "cell_type": "code",
   "execution_count": 12,
   "metadata": {},
   "outputs": [
    {
     "name": "stdout",
     "output_type": "stream",
     "text": [
      "https://pevex.hr/catalogsearch/result/?q=led+tv\n"
     ]
    }
   ],
   "source": [
    "url=get_url(\"led tv\")\n",
    "print(url)"
   ]
  },
  {
   "cell_type": "code",
   "execution_count": 13,
   "metadata": {},
   "outputs": [],
   "source": [
    "driver.get(url)"
   ]
  },
  {
   "cell_type": "markdown",
   "metadata": {},
   "source": [
    "### Extract the collection"
   ]
  },
  {
   "cell_type": "code",
   "execution_count": 14,
   "metadata": {},
   "outputs": [],
   "source": [
    "soup= BeautifulSoup(driver.page_source,\"html.parser\")"
   ]
  },
  {
   "cell_type": "code",
   "execution_count": 26,
   "metadata": {},
   "outputs": [],
   "source": [
    "results=soup.find_all(\"li\",\"item product product-item\")"
   ]
  },
  {
   "cell_type": "code",
   "execution_count": 39,
   "metadata": {},
   "outputs": [
    {
     "data": {
      "text/plain": [
       "16"
      ]
     },
     "execution_count": 39,
     "metadata": {},
     "output_type": "execute_result"
    }
   ],
   "source": [
    "len(results)"
   ]
  },
  {
   "cell_type": "markdown",
   "metadata": {},
   "source": [
    "### Prototype the record"
   ]
  },
  {
   "cell_type": "code",
   "execution_count": 40,
   "metadata": {},
   "outputs": [],
   "source": [
    "item=results[0]"
   ]
  },
  {
   "cell_type": "code",
   "execution_count": 47,
   "metadata": {},
   "outputs": [],
   "source": [
    "atag=item.strong.a"
   ]
  },
  {
   "cell_type": "code",
   "execution_count": 49,
   "metadata": {},
   "outputs": [
    {
     "data": {
      "text/plain": [
       "'TV LED HITACHI 32HAE2250'"
      ]
     },
     "execution_count": 49,
     "metadata": {},
     "output_type": "execute_result"
    }
   ],
   "source": [
    "description=atag.text.strip()"
   ]
  },
  {
   "cell_type": "code",
   "execution_count": 51,
   "metadata": {},
   "outputs": [],
   "source": [
    "url=atag.get(\"href\")"
   ]
  },
  {
   "cell_type": "code",
   "execution_count": 57,
   "metadata": {},
   "outputs": [
    {
     "data": {
      "text/plain": [
       "'1.699,00kn'"
      ]
     },
     "execution_count": 57,
     "metadata": {},
     "output_type": "execute_result"
    }
   ],
   "source": [
    "price=item.find(\"span\",\"price\").text.replace(\"\\xa0\",\"\")\n",
    "price"
   ]
  },
  {
   "cell_type": "markdown",
   "metadata": {},
   "source": [
    "### Generalize the pattern"
   ]
  },
  {
   "cell_type": "code",
   "execution_count": 58,
   "metadata": {},
   "outputs": [],
   "source": [
    "def extract_record(item):\n",
    "    \"\"\" Extract and return data from a single record\"\"\"\n",
    "    #Description and url\n",
    "    atag=item.strong.a\n",
    "    description=atag.text.strip()\n",
    "    url=url=atag.get(\"href\")\n",
    "    \n",
    "    #price\n",
    "    price=item.find(\"span\",\"price\").text.replace(\"\\xa0\",\"\")\n",
    "    \n",
    "    \n",
    "    results=(description,price,url)\n",
    "    \n",
    "    return results"
   ]
  },
  {
   "cell_type": "code",
   "execution_count": 62,
   "metadata": {},
   "outputs": [],
   "source": [
    "records=[]\n",
    "results=soup.find_all(\"li\",\"item product product-item\")\n",
    "for item in results:\n",
    "    records.append(extract_record(item))"
   ]
  },
  {
   "cell_type": "code",
   "execution_count": 63,
   "metadata": {},
   "outputs": [
    {
     "data": {
      "text/plain": [
       "('TV LED HITACHI 32HAE2250',\n",
       " '1.699,00kn',\n",
       " 'https://pevex.hr/tv-led-hitachi-32hae2250-hd-ready-dvb-t2-s2-android-340863.html')"
      ]
     },
     "execution_count": 63,
     "metadata": {},
     "output_type": "execute_result"
    }
   ],
   "source": [
    "records[0]"
   ]
  },
  {
   "cell_type": "code",
   "execution_count": 65,
   "metadata": {},
   "outputs": [
    {
     "name": "stdout",
     "output_type": "stream",
     "text": [
      "1.699,00kn\n",
      "3.899,00kn\n",
      "3.499,00kn\n",
      "1.299,00kn\n",
      "2.799,00kn\n",
      "2.949,00kn\n",
      "3.699,00kn\n",
      "4.509,00kn\n",
      "2.589,00kn\n",
      "3.139,00kn\n",
      "3.999,00kn\n",
      "3.599,00kn\n",
      "5.499,00kn\n",
      "7.939,00kn\n",
      "4.699,00kn\n",
      "11.499,00kn\n"
     ]
    }
   ],
   "source": [
    "for row in records:\n",
    "    print(row[1])"
   ]
  },
  {
   "cell_type": "markdown",
   "metadata": {},
   "source": [
    "### Going to next page"
   ]
  },
  {
   "cell_type": "code",
   "execution_count": 66,
   "metadata": {},
   "outputs": [],
   "source": [
    "def get_url(search_term):\n",
    "    \"\"\"Generate a url from search term\"\"\"\n",
    "    template=\"https://pevex.hr/catalogsearch/result/?q={}\"\n",
    "    search_term=search_term.replace(\" \",\"+\")\n",
    "    \n",
    "    \n",
    "    #add query to url\n",
    "    url=template.format(search_term)\n",
    "    #add page query placeholder\n",
    "    url+= \"index/?p={}\"\n",
    "    return url"
   ]
  },
  {
   "cell_type": "markdown",
   "metadata": {},
   "source": [
    "### Putting all together"
   ]
  },
  {
   "cell_type": "code",
   "execution_count": 80,
   "metadata": {},
   "outputs": [],
   "source": [
    "import csv\n",
    "from bs4 import BeautifulSoup\n",
    "from webdriver_manager.chrome import ChromeDriverManager\n",
    "from selenium import webdriver\n",
    "\n",
    "\n",
    "\n",
    "def get_url(search_term):\n",
    "    \"\"\"Generate a url from search term\"\"\"\n",
    "    template=\"https://pevex.hr/catalogsearch/result/?q={}\"\n",
    "    search_term=search_term.replace(\" \",\"+\")\n",
    "    \n",
    "    \n",
    "    #add query to url\n",
    "    url=template.format(search_term)\n",
    "    #add page query placeholder\n",
    "    url=\"https://pevex.hr/catalogsearch/result/index/?p={}&q=led+tv\"\n",
    "    return url\n",
    "\n",
    "def extract_record(item):\n",
    "    \"\"\" Extract and return data from a single record\"\"\"\n",
    "    #Description and url\n",
    "    atag=item.strong.a\n",
    "    description=atag.text.strip()\n",
    "    url=url=atag.get(\"href\")\n",
    "    \n",
    "    #price\n",
    "    price=item.find(\"span\",\"price\").text.replace(\"\\xa0\",\"\")\n",
    "    \n",
    "    \n",
    "    results=(description,price,url)\n",
    "    \n",
    "    return results\n",
    "\n",
    "\n",
    "def main(search_term):\n",
    "    \"\"\" Run main program routime\"\"\"\n",
    "    #startup the webdriver\n",
    "    driver=driver = webdriver.Chrome(ChromeDriverManager().install())\n",
    "    \n",
    "    record=[]\n",
    "    url=get_url(search_term)\n",
    "    #we have 10 page of search in our example for \"led tv\"\n",
    "    for page in range (1,11):\n",
    "        driver.get(url.format(page))\n",
    "        soup=BeautifulSoup(driver.page_source,\"html.parser\")\n",
    "        results=soup.find_all(\"li\",\"item product product-item\")\n",
    "        \n",
    "        for item in results:\n",
    "            record=extract_record(item)\n",
    "            if record:\n",
    "                records.append(record)\n",
    "                \n",
    "    driver.close()\n",
    "    \n",
    "    #save data to csv file\n",
    "    with open(\"elipso_results.csv\",\"w\",encoding=\"utf-8\") as f:\n",
    "        writer=csv.writer(f)\n",
    "        writer.writerow([\"Description\",\"Price\",\"Url\"])\n",
    "        writer.writerows(records)"
   ]
  },
  {
   "cell_type": "code",
   "execution_count": 79,
   "metadata": {},
   "outputs": [
    {
     "name": "stderr",
     "output_type": "stream",
     "text": [
      "[WDM] - ====== WebDriver manager ======\n"
     ]
    },
    {
     "name": "stdout",
     "output_type": "stream",
     "text": [
      "\n",
      "\n"
     ]
    },
    {
     "name": "stderr",
     "output_type": "stream",
     "text": [
      "[WDM] - Current google-chrome version is 88.0.4324\n",
      "[WDM] - Get LATEST driver version for 88.0.4324\n",
      "[WDM] - Driver [C:\\Users\\Zlatko\\.wdm\\drivers\\chromedriver\\win32\\88.0.4324.96\\chromedriver.exe] found in cache\n"
     ]
    }
   ],
   "source": [
    "main(\"led tv\")"
   ]
  },
  {
   "cell_type": "code",
   "execution_count": null,
   "metadata": {},
   "outputs": [],
   "source": []
  }
 ],
 "metadata": {
  "kernelspec": {
   "display_name": "Python 3",
   "language": "python",
   "name": "python3"
  },
  "language_info": {
   "codemirror_mode": {
    "name": "ipython",
    "version": 3
   },
   "file_extension": ".py",
   "mimetype": "text/x-python",
   "name": "python",
   "nbconvert_exporter": "python",
   "pygments_lexer": "ipython3",
   "version": "3.8.3"
  }
 },
 "nbformat": 4,
 "nbformat_minor": 4
}
