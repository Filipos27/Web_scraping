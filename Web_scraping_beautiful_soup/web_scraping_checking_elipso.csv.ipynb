{
 "cells": [
  {
   "cell_type": "markdown",
   "metadata": {},
   "source": [
    "# Elispo csv checking"
   ]
  },
  {
   "cell_type": "code",
   "execution_count": 1,
   "metadata": {},
   "outputs": [],
   "source": [
    "import pandas as pd"
   ]
  },
  {
   "cell_type": "code",
   "execution_count": 3,
   "metadata": {},
   "outputs": [
    {
     "data": {
      "text/html": [
       "<div>\n",
       "<style scoped>\n",
       "    .dataframe tbody tr th:only-of-type {\n",
       "        vertical-align: middle;\n",
       "    }\n",
       "\n",
       "    .dataframe tbody tr th {\n",
       "        vertical-align: top;\n",
       "    }\n",
       "\n",
       "    .dataframe thead th {\n",
       "        text-align: right;\n",
       "    }\n",
       "</style>\n",
       "<table border=\"1\" class=\"dataframe\">\n",
       "  <thead>\n",
       "    <tr style=\"text-align: right;\">\n",
       "      <th></th>\n",
       "      <th>Description</th>\n",
       "      <th>Price</th>\n",
       "      <th>Url</th>\n",
       "    </tr>\n",
       "  </thead>\n",
       "  <tbody>\n",
       "    <tr>\n",
       "      <th>0</th>\n",
       "      <td>TV LED HITACHI 32HAE2250</td>\n",
       "      <td>1.699,00kn</td>\n",
       "      <td>https://pevex.hr/tv-led-hitachi-32hae2250-hd-r...</td>\n",
       "    </tr>\n",
       "    <tr>\n",
       "      <th>1</th>\n",
       "      <td>TV LED HITACHI 55HAL7150</td>\n",
       "      <td>3.899,00kn</td>\n",
       "      <td>https://pevex.hr/tv-led-hitachi-55hal7150-3371...</td>\n",
       "    </tr>\n",
       "    <tr>\n",
       "      <th>2</th>\n",
       "      <td>TV LED HITACHI 55HAK6150</td>\n",
       "      <td>3.499,00kn</td>\n",
       "      <td>https://pevex.hr/tv-led-hitachi-55hak6150-3371...</td>\n",
       "    </tr>\n",
       "    <tr>\n",
       "      <th>3</th>\n",
       "      <td>TV LED PHILIPS 24PFS5505/12</td>\n",
       "      <td>1.299,00kn</td>\n",
       "      <td>https://pevex.hr/tv-led-philips-24pfs5505-12-3...</td>\n",
       "    </tr>\n",
       "    <tr>\n",
       "      <th>4</th>\n",
       "      <td>SAMSUNG UE43TU7092UXXH UHD DVB-T2/S2 SMART LED TV</td>\n",
       "      <td>2.799,00kn</td>\n",
       "      <td>https://pevex.hr/tv-led-samsung-ue43tu7092uxxh...</td>\n",
       "    </tr>\n",
       "  </tbody>\n",
       "</table>\n",
       "</div>"
      ],
      "text/plain": [
       "                                         Description       Price  \\\n",
       "0                           TV LED HITACHI 32HAE2250  1.699,00kn   \n",
       "1                           TV LED HITACHI 55HAL7150  3.899,00kn   \n",
       "2                           TV LED HITACHI 55HAK6150  3.499,00kn   \n",
       "3                        TV LED PHILIPS 24PFS5505/12  1.299,00kn   \n",
       "4  SAMSUNG UE43TU7092UXXH UHD DVB-T2/S2 SMART LED TV  2.799,00kn   \n",
       "\n",
       "                                                 Url  \n",
       "0  https://pevex.hr/tv-led-hitachi-32hae2250-hd-r...  \n",
       "1  https://pevex.hr/tv-led-hitachi-55hal7150-3371...  \n",
       "2  https://pevex.hr/tv-led-hitachi-55hak6150-3371...  \n",
       "3  https://pevex.hr/tv-led-philips-24pfs5505-12-3...  \n",
       "4  https://pevex.hr/tv-led-samsung-ue43tu7092uxxh...  "
      ]
     },
     "execution_count": 3,
     "metadata": {},
     "output_type": "execute_result"
    }
   ],
   "source": [
    "df=pd.read_csv(\"elipso_results.csv\")\n",
    "df.head()"
   ]
  },
  {
   "cell_type": "code",
   "execution_count": null,
   "metadata": {},
   "outputs": [],
   "source": []
  }
 ],
 "metadata": {
  "kernelspec": {
   "display_name": "Python 3",
   "language": "python",
   "name": "python3"
  },
  "language_info": {
   "codemirror_mode": {
    "name": "ipython",
    "version": 3
   },
   "file_extension": ".py",
   "mimetype": "text/x-python",
   "name": "python",
   "nbconvert_exporter": "python",
   "pygments_lexer": "ipython3",
   "version": "3.8.3"
  }
 },
 "nbformat": 4,
 "nbformat_minor": 4
}
