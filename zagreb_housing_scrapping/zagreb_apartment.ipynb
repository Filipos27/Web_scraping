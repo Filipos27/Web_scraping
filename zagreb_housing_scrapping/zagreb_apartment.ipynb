{
 "cells": [
  {
   "cell_type": "markdown",
   "metadata": {},
   "source": [
    "# Web scrapping project - house price in Zagreb"
   ]
  },
  {
   "cell_type": "markdown",
   "metadata": {},
   "source": [
    "In this project we are going to use selenium webdriver and beautifulSoup for scrapping information of apartments in Zagreb,Croatia. After we are going to analyze all apartments based on price,location,living area etc."
   ]
  },
  {
   "cell_type": "code",
   "execution_count": 1,
   "metadata": {
    "scrolled": true
   },
   "outputs": [],
   "source": [
    "#importing libraries\n",
    "import csv\n",
    "from bs4 import BeautifulSoup\n",
    "from webdriver_manager.chrome import ChromeDriverManager\n",
    "from selenium import webdriver"
   ]
  },
  {
   "cell_type": "code",
   "execution_count": 2,
   "metadata": {},
   "outputs": [
    {
     "name": "stderr",
     "output_type": "stream",
     "text": [
      "[WDM] - ====== WebDriver manager ======\n",
      "[WDM] - Current google-chrome version is 89.0.4389\n",
      "[WDM] - Get LATEST driver version for 89.0.4389\n"
     ]
    },
    {
     "name": "stdout",
     "output_type": "stream",
     "text": [
      "\n",
      "\n"
     ]
    },
    {
     "name": "stderr",
     "output_type": "stream",
     "text": [
      "[WDM] - Driver [/home/mattdmv/.wdm/drivers/chromedriver/linux64/89.0.4389.23/chromedriver] found in cache\n"
     ]
    }
   ],
   "source": [
    "#setting Chrome driver\n",
    "driver = webdriver.Chrome(ChromeDriverManager().install())"
   ]
  },
  {
   "cell_type": "code",
   "execution_count": 3,
   "metadata": {},
   "outputs": [],
   "source": [
    "# gettin url of page we want to scrap\n",
    "url =\"https://www.crozilla-nekretnine.com/oglasi/zagreb/stanovi/prodaja?page=1\"\n",
    "driver.get(url)"
   ]
  },
  {
   "cell_type": "code",
   "execution_count": 4,
   "metadata": {},
   "outputs": [],
   "source": [
    "# setting soup\n",
    "soup= BeautifulSoup(driver.page_source,\"html.parser\")"
   ]
  },
  {
   "cell_type": "code",
   "execution_count": 5,
   "metadata": {},
   "outputs": [],
   "source": [
    "#finding all apartmets on single page\n",
    "apartments=soup.find_all(\"div\",\"ct-main-content\")"
   ]
  },
  {
   "cell_type": "code",
   "execution_count": 6,
   "metadata": {},
   "outputs": [
    {
     "data": {
      "text/plain": [
       "20"
      ]
     },
     "execution_count": 6,
     "metadata": {},
     "output_type": "execute_result"
    }
   ],
   "source": [
    "len(apartments)"
   ]
  },
  {
   "cell_type": "code",
   "execution_count": 7,
   "metadata": {},
   "outputs": [],
   "source": [
    "# identifying second apartment\n",
    "sec_apartment=apartments[1]"
   ]
  },
  {
   "cell_type": "code",
   "execution_count": 8,
   "metadata": {
    "scrolled": true
   },
   "outputs": [
    {
     "data": {
      "text/plain": [
       "'10000'"
      ]
     },
     "execution_count": 8,
     "metadata": {},
     "output_type": "execute_result"
    }
   ],
   "source": [
    "#post number location\n",
    "sec_apartment.find(\"div\",\"ct-headline overflow\").text.strip()[:5]"
   ]
  },
  {
   "cell_type": "code",
   "execution_count": 9,
   "metadata": {},
   "outputs": [
    {
     "data": {
      "text/plain": [
       "'Malešnica'"
      ]
     },
     "execution_count": 9,
     "metadata": {},
     "output_type": "execute_result"
    }
   ],
   "source": [
    "#location of apartment\n",
    "sec_apartment.find(\"div\",\"ct-headline overflow\").text.strip().replace(\" \",\"\").split(\"\\n\")[1]"
   ]
  },
  {
   "cell_type": "code",
   "execution_count": 10,
   "metadata": {},
   "outputs": [
    {
     "data": {
      "text/plain": [
       "'159.000€'"
      ]
     },
     "execution_count": 10,
     "metadata": {},
     "output_type": "execute_result"
    }
   ],
   "source": [
    "#price of apartment\n",
    "sec_apartment.find(\"span\",\"upper price-big\").text.strip().replace(\"\\n\",\"\").replace(\" \",\"\")"
   ]
  },
  {
   "cell_type": "code",
   "execution_count": 11,
   "metadata": {},
   "outputs": [
    {
     "data": {
      "text/plain": [
       "'1.217'"
      ]
     },
     "execution_count": 11,
     "metadata": {},
     "output_type": "execute_result"
    }
   ],
   "source": [
    "#sqft price of apartment\n",
    "sec_apartment.find_all(\"li\")[1].text.strip()[:5]"
   ]
  },
  {
   "cell_type": "code",
   "execution_count": 12,
   "metadata": {},
   "outputs": [
    {
     "data": {
      "text/plain": [
       "'130,70'"
      ]
     },
     "execution_count": 12,
     "metadata": {},
     "output_type": "execute_result"
    }
   ],
   "source": [
    "#living area \n",
    "sec_apartment.find_all(\"li\")[2].text.strip().replace(\"\\n\",\"\")[:6]"
   ]
  },
  {
   "cell_type": "code",
   "execution_count": 13,
   "metadata": {
    "scrolled": true
   },
   "outputs": [
    {
     "data": {
      "text/plain": [
       "'3'"
      ]
     },
     "execution_count": 13,
     "metadata": {},
     "output_type": "execute_result"
    }
   ],
   "source": [
    "#number of rooms\n",
    "sec_apartment.find_all(\"li\")[3].text.strip().replace(\"\\nbroj soba\",\"\")"
   ]
  },
  {
   "cell_type": "code",
   "execution_count": 15,
   "metadata": {},
   "outputs": [],
   "source": [
    "#looping throw pages 1 to 161 and scrapping all information from each apartment on particular page\n",
    "Location=[]\n",
    "Post_number=[]\n",
    "Price=[]\n",
    "Sqft=[]\n",
    "Living_area=[]\n",
    "Rooms=[]\n",
    "pages=range(1,162)\n",
    "\n",
    "for page in pages:\n",
    "    url =\"https://www.crozilla-nekretnine.com/oglasi/zagreb/stanovi/prodaja?page={}\".format(page)\n",
    "    driver.get(url)\n",
    "    for i in apartments:\n",
    "        Location.append(i.find(\"div\",\"ct-headline overflow\").text.strip().replace(\" \",\"\").split(\"\\n\")[1])\n",
    "        Post_number.append(i.find(\"div\",\"ct-headline overflow\").text.strip()[:5])                \n",
    "        Price.append(i.find(\"span\",\"upper price-big\").text.strip().replace(\"\\n\",\"\").replace(\" \",\"\"))\n",
    "        Sqft.append(i.find_all(\"li\")[1].text.strip()[:5])\n",
    "        Living_area.append(i.find_all(\"li\")[2].text.strip().replace(\"\\n\",\"\")[:5])\n",
    "        try:\n",
    "            Rooms.append(i.find_all(\"li\")[3].text.strip().replace(\"\\nbroj soba\",\"\"))\n",
    "        except:\n",
    "            Rooms.append(0)"
   ]
  },
  {
   "cell_type": "code",
   "execution_count": 16,
   "metadata": {},
   "outputs": [],
   "source": [
    "data=list(zip(Location,Post_number,Price,Sqft,Living_area,Rooms))"
   ]
  },
  {
   "cell_type": "code",
   "execution_count": 2,
   "metadata": {},
   "outputs": [],
   "source": [
    "import pandas as pd"
   ]
  },
  {
   "cell_type": "code",
   "execution_count": 29,
   "metadata": {},
   "outputs": [],
   "source": [
    "#making dataframe\n",
    "df=pd.DataFrame(data,columns=[\"Location\",\"Post_number\",\"Price\",\"Sqft_price\",\"Living_area\",\"Rooms\"])"
   ]
  },
  {
   "cell_type": "code",
   "execution_count": 19,
   "metadata": {},
   "outputs": [
    {
     "data": {
      "text/plain": [
       "(3220, 6)"
      ]
     },
     "execution_count": 19,
     "metadata": {},
     "output_type": "execute_result"
    }
   ],
   "source": [
    "df.shape"
   ]
  },
  {
   "cell_type": "code",
   "execution_count": 21,
   "metadata": {},
   "outputs": [
    {
     "data": {
      "text/html": [
       "<div>\n",
       "<style scoped>\n",
       "    .dataframe tbody tr th:only-of-type {\n",
       "        vertical-align: middle;\n",
       "    }\n",
       "\n",
       "    .dataframe tbody tr th {\n",
       "        vertical-align: top;\n",
       "    }\n",
       "\n",
       "    .dataframe thead th {\n",
       "        text-align: right;\n",
       "    }\n",
       "</style>\n",
       "<table border=\"1\" class=\"dataframe\">\n",
       "  <thead>\n",
       "    <tr style=\"text-align: right;\">\n",
       "      <th></th>\n",
       "      <th>Location</th>\n",
       "      <th>Post_number</th>\n",
       "      <th>Price</th>\n",
       "      <th>Sqft_price</th>\n",
       "      <th>Living_area</th>\n",
       "      <th>Rooms</th>\n",
       "    </tr>\n",
       "  </thead>\n",
       "  <tbody>\n",
       "    <tr>\n",
       "      <th>1272</th>\n",
       "      <td>Črnomerec</td>\n",
       "      <td>10000</td>\n",
       "      <td>195.000€</td>\n",
       "      <td>1.950</td>\n",
       "      <td>100,0</td>\n",
       "      <td>4</td>\n",
       "    </tr>\n",
       "    <tr>\n",
       "      <th>18</th>\n",
       "      <td>Šestine</td>\n",
       "      <td>10000</td>\n",
       "      <td>273.000€</td>\n",
       "      <td>3.545</td>\n",
       "      <td>77,00</td>\n",
       "      <td>3</td>\n",
       "    </tr>\n",
       "    <tr>\n",
       "      <th>685</th>\n",
       "      <td>Vrbani</td>\n",
       "      <td>10000</td>\n",
       "      <td>105.000€</td>\n",
       "      <td>2.917</td>\n",
       "      <td>36,00</td>\n",
       "      <td>2</td>\n",
       "    </tr>\n",
       "    <tr>\n",
       "      <th>2977</th>\n",
       "      <td>Trešnjevka</td>\n",
       "      <td>10110</td>\n",
       "      <td>112.943€</td>\n",
       "      <td>2.689</td>\n",
       "      <td>42,00</td>\n",
       "      <td>2</td>\n",
       "    </tr>\n",
       "    <tr>\n",
       "      <th>2909</th>\n",
       "      <td>Špansko</td>\n",
       "      <td>10147</td>\n",
       "      <td>125.000€</td>\n",
       "      <td>1.838</td>\n",
       "      <td>68,00</td>\n",
       "      <td>3</td>\n",
       "    </tr>\n",
       "    <tr>\n",
       "      <th>2930</th>\n",
       "      <td>Trešnjevka</td>\n",
       "      <td>10110</td>\n",
       "      <td>75.000€</td>\n",
       "      <td>1.667</td>\n",
       "      <td>45,00</td>\n",
       "      <td>2</td>\n",
       "    </tr>\n",
       "    <tr>\n",
       "      <th>126</th>\n",
       "      <td>Malešnica</td>\n",
       "      <td>10000</td>\n",
       "      <td>169.000€</td>\n",
       "      <td>1.493</td>\n",
       "      <td>113,2</td>\n",
       "      <td>4</td>\n",
       "    </tr>\n",
       "    <tr>\n",
       "      <th>835</th>\n",
       "      <td>Črnomerec</td>\n",
       "      <td>10000</td>\n",
       "      <td>140.000€</td>\n",
       "      <td>1.972</td>\n",
       "      <td>71,00</td>\n",
       "      <td>2</td>\n",
       "    </tr>\n",
       "    <tr>\n",
       "      <th>3</th>\n",
       "      <td>Črnomerec</td>\n",
       "      <td>10000</td>\n",
       "      <td>239.000€</td>\n",
       "      <td>1.648</td>\n",
       "      <td>145,0</td>\n",
       "      <td>4</td>\n",
       "    </tr>\n",
       "    <tr>\n",
       "      <th>438</th>\n",
       "      <td>Šestine</td>\n",
       "      <td>10000</td>\n",
       "      <td>273.000€</td>\n",
       "      <td>3.545</td>\n",
       "      <td>77,00</td>\n",
       "      <td>3</td>\n",
       "    </tr>\n",
       "  </tbody>\n",
       "</table>\n",
       "</div>"
      ],
      "text/plain": [
       "        Location Post_number     Price Sqft_price Living_area Rooms\n",
       "1272   Črnomerec       10000  195.000€      1.950       100,0     4\n",
       "18       Šestine       10000  273.000€      3.545       77,00     3\n",
       "685       Vrbani       10000  105.000€      2.917       36,00     2\n",
       "2977  Trešnjevka       10110  112.943€      2.689       42,00     2\n",
       "2909     Špansko       10147  125.000€      1.838       68,00     3\n",
       "2930  Trešnjevka       10110   75.000€      1.667       45,00     2\n",
       "126    Malešnica       10000  169.000€      1.493       113,2     4\n",
       "835    Črnomerec       10000  140.000€      1.972       71,00     2\n",
       "3      Črnomerec       10000  239.000€      1.648       145,0     4\n",
       "438      Šestine       10000  273.000€      3.545       77,00     3"
      ]
     },
     "execution_count": 21,
     "metadata": {},
     "output_type": "execute_result"
    }
   ],
   "source": [
    "df.sample(10)"
   ]
  },
  {
   "cell_type": "code",
   "execution_count": 24,
   "metadata": {},
   "outputs": [],
   "source": [
    "#saving to csv file\n",
    "df.to_csv(\"Zagreb_housing_price\")"
   ]
  },
  {
   "cell_type": "code",
   "execution_count": 372,
   "metadata": {
    "scrolled": false
   },
   "outputs": [
    {
     "data": {
      "text/html": [
       "<div>\n",
       "<style scoped>\n",
       "    .dataframe tbody tr th:only-of-type {\n",
       "        vertical-align: middle;\n",
       "    }\n",
       "\n",
       "    .dataframe tbody tr th {\n",
       "        vertical-align: top;\n",
       "    }\n",
       "\n",
       "    .dataframe thead th {\n",
       "        text-align: right;\n",
       "    }\n",
       "</style>\n",
       "<table border=\"1\" class=\"dataframe\">\n",
       "  <thead>\n",
       "    <tr style=\"text-align: right;\">\n",
       "      <th></th>\n",
       "      <th>Unnamed: 0</th>\n",
       "      <th>Location</th>\n",
       "      <th>Post_number</th>\n",
       "      <th>Price</th>\n",
       "      <th>Sqft_price</th>\n",
       "      <th>Living_area</th>\n",
       "      <th>Rooms</th>\n",
       "    </tr>\n",
       "  </thead>\n",
       "  <tbody>\n",
       "    <tr>\n",
       "      <th>2944</th>\n",
       "      <td>2944</td>\n",
       "      <td>Stenjevec</td>\n",
       "      <td>10090</td>\n",
       "      <td>140.000€</td>\n",
       "      <td>1.779</td>\n",
       "      <td>78,69</td>\n",
       "      <td>3</td>\n",
       "    </tr>\n",
       "    <tr>\n",
       "      <th>316</th>\n",
       "      <td>316</td>\n",
       "      <td>Sesvete</td>\n",
       "      <td>10360</td>\n",
       "      <td>125.000€</td>\n",
       "      <td>1.603</td>\n",
       "      <td>78,00</td>\n",
       "      <td>3</td>\n",
       "    </tr>\n",
       "    <tr>\n",
       "      <th>1664</th>\n",
       "      <td>1664</td>\n",
       "      <td>Stenjevec</td>\n",
       "      <td>10090</td>\n",
       "      <td>140.000€</td>\n",
       "      <td>1.779</td>\n",
       "      <td>78,69</td>\n",
       "      <td>3</td>\n",
       "    </tr>\n",
       "    <tr>\n",
       "      <th>1515</th>\n",
       "      <td>1515</td>\n",
       "      <td>Črnomerec</td>\n",
       "      <td>10000</td>\n",
       "      <td>140.000€</td>\n",
       "      <td>1.972</td>\n",
       "      <td>71,00</td>\n",
       "      <td>2</td>\n",
       "    </tr>\n",
       "    <tr>\n",
       "      <th>1583</th>\n",
       "      <td>1583</td>\n",
       "      <td>Črnomerec</td>\n",
       "      <td>10000</td>\n",
       "      <td>239.000€</td>\n",
       "      <td>1.648</td>\n",
       "      <td>145,0</td>\n",
       "      <td>4</td>\n",
       "    </tr>\n",
       "    <tr>\n",
       "      <th>581</th>\n",
       "      <td>581</td>\n",
       "      <td>Malešnica</td>\n",
       "      <td>10000</td>\n",
       "      <td>159.000€</td>\n",
       "      <td>1.217</td>\n",
       "      <td>130,7</td>\n",
       "      <td>3</td>\n",
       "    </tr>\n",
       "    <tr>\n",
       "      <th>497</th>\n",
       "      <td>497</td>\n",
       "      <td>Trešnjevka</td>\n",
       "      <td>10110</td>\n",
       "      <td>112.943€</td>\n",
       "      <td>2.689</td>\n",
       "      <td>42,00</td>\n",
       "      <td>2</td>\n",
       "    </tr>\n",
       "    <tr>\n",
       "      <th>2977</th>\n",
       "      <td>2977</td>\n",
       "      <td>Trešnjevka</td>\n",
       "      <td>10110</td>\n",
       "      <td>112.943€</td>\n",
       "      <td>2.689</td>\n",
       "      <td>42,00</td>\n",
       "      <td>2</td>\n",
       "    </tr>\n",
       "    <tr>\n",
       "      <th>3194</th>\n",
       "      <td>3194</td>\n",
       "      <td>DonjiGrad</td>\n",
       "      <td>10000</td>\n",
       "      <td>129.000€</td>\n",
       "      <td>1.792</td>\n",
       "      <td>72,00</td>\n",
       "      <td>3</td>\n",
       "    </tr>\n",
       "    <tr>\n",
       "      <th>1395</th>\n",
       "      <td>1395</td>\n",
       "      <td>Črnomerec</td>\n",
       "      <td>10000</td>\n",
       "      <td>140.000€</td>\n",
       "      <td>1.972</td>\n",
       "      <td>71,00</td>\n",
       "      <td>2</td>\n",
       "    </tr>\n",
       "  </tbody>\n",
       "</table>\n",
       "</div>"
      ],
      "text/plain": [
       "      Unnamed: 0    Location  Post_number     Price Sqft_price Living_area  \\\n",
       "2944        2944   Stenjevec        10090  140.000€      1.779       78,69   \n",
       "316          316     Sesvete        10360  125.000€      1.603       78,00   \n",
       "1664        1664   Stenjevec        10090  140.000€      1.779       78,69   \n",
       "1515        1515   Črnomerec        10000  140.000€      1.972       71,00   \n",
       "1583        1583   Črnomerec        10000  239.000€      1.648       145,0   \n",
       "581          581   Malešnica        10000  159.000€      1.217       130,7   \n",
       "497          497  Trešnjevka        10110  112.943€      2.689       42,00   \n",
       "2977        2977  Trešnjevka        10110  112.943€      2.689       42,00   \n",
       "3194        3194   DonjiGrad        10000  129.000€      1.792       72,00   \n",
       "1395        1395   Črnomerec        10000  140.000€      1.972       71,00   \n",
       "\n",
       "      Rooms  \n",
       "2944      3  \n",
       "316       3  \n",
       "1664      3  \n",
       "1515      2  \n",
       "1583      4  \n",
       "581       3  \n",
       "497       2  \n",
       "2977      2  \n",
       "3194      3  \n",
       "1395      2  "
      ]
     },
     "execution_count": 372,
     "metadata": {},
     "output_type": "execute_result"
    }
   ],
   "source": [
    "df2=pd.read_csv(\"Zagreb_housing_price\")\n",
    "df2.sample(10)"
   ]
  },
  {
   "cell_type": "markdown",
   "metadata": {},
   "source": [
    "## Exploring data"
   ]
  },
  {
   "cell_type": "code",
   "execution_count": 373,
   "metadata": {},
   "outputs": [
    {
     "name": "stdout",
     "output_type": "stream",
     "text": [
      "<class 'pandas.core.frame.DataFrame'>\n",
      "RangeIndex: 3220 entries, 0 to 3219\n",
      "Data columns (total 7 columns):\n",
      " #   Column       Non-Null Count  Dtype \n",
      "---  ------       --------------  ----- \n",
      " 0   Unnamed: 0   3220 non-null   int64 \n",
      " 1   Location     3220 non-null   object\n",
      " 2   Post_number  3220 non-null   int64 \n",
      " 3   Price        3220 non-null   object\n",
      " 4   Sqft_price   3220 non-null   object\n",
      " 5   Living_area  3220 non-null   object\n",
      " 6   Rooms        3220 non-null   int64 \n",
      "dtypes: int64(3), object(4)\n",
      "memory usage: 176.2+ KB\n"
     ]
    }
   ],
   "source": [
    "df2.info()"
   ]
  },
  {
   "cell_type": "code",
   "execution_count": 374,
   "metadata": {},
   "outputs": [
    {
     "data": {
      "text/plain": [
       "Unnamed: 0     3220\n",
       "Location         12\n",
       "Post_number       6\n",
       "Price            17\n",
       "Sqft_price       19\n",
       "Living_area      20\n",
       "Rooms             5\n",
       "dtype: int64"
      ]
     },
     "execution_count": 374,
     "metadata": {},
     "output_type": "execute_result"
    }
   ],
   "source": [
    "df2.nunique()"
   ]
  },
  {
   "cell_type": "code",
   "execution_count": 375,
   "metadata": {},
   "outputs": [
    {
     "data": {
      "text/plain": [
       "array(['Trnsko', 'Malešnica', 'Črnomerec', 'Stenjevec', 'Vrbani',\n",
       "       'DonjiGrad', 'Kajzerica', 'Špansko', 'Trešnjevka', 'Trnje',\n",
       "       'Sesvete', 'Šestine'], dtype=object)"
      ]
     },
     "execution_count": 375,
     "metadata": {},
     "output_type": "execute_result"
    }
   ],
   "source": [
    "#locations\n",
    "df2[\"Location\"].unique()"
   ]
  },
  {
   "cell_type": "markdown",
   "metadata": {},
   "source": [
    "We have string in price column so we will drop that column and convert column with price into float."
   ]
  },
  {
   "cell_type": "code",
   "execution_count": 376,
   "metadata": {},
   "outputs": [],
   "source": [
    "df3=df2.copy()"
   ]
  },
  {
   "cell_type": "code",
   "execution_count": 377,
   "metadata": {
    "scrolled": true
   },
   "outputs": [
    {
     "data": {
      "text/html": [
       "<div>\n",
       "<style scoped>\n",
       "    .dataframe tbody tr th:only-of-type {\n",
       "        vertical-align: middle;\n",
       "    }\n",
       "\n",
       "    .dataframe tbody tr th {\n",
       "        vertical-align: top;\n",
       "    }\n",
       "\n",
       "    .dataframe thead th {\n",
       "        text-align: right;\n",
       "    }\n",
       "</style>\n",
       "<table border=\"1\" class=\"dataframe\">\n",
       "  <thead>\n",
       "    <tr style=\"text-align: right;\">\n",
       "      <th></th>\n",
       "      <th>Unnamed: 0</th>\n",
       "      <th>Location</th>\n",
       "      <th>Post_number</th>\n",
       "      <th>Price</th>\n",
       "      <th>Sqft_price</th>\n",
       "      <th>Living_area</th>\n",
       "      <th>Rooms</th>\n",
       "    </tr>\n",
       "  </thead>\n",
       "  <tbody>\n",
       "    <tr>\n",
       "      <th>0</th>\n",
       "      <td>0</td>\n",
       "      <td>Trnsko</td>\n",
       "      <td>10020</td>\n",
       "      <td>naupi</td>\n",
       "      <td>50,00</td>\n",
       "      <td>2broj</td>\n",
       "      <td>0</td>\n",
       "    </tr>\n",
       "    <tr>\n",
       "      <th>1</th>\n",
       "      <td>1</td>\n",
       "      <td>Malešnica</td>\n",
       "      <td>10000</td>\n",
       "      <td>159.000</td>\n",
       "      <td>1.217</td>\n",
       "      <td>130,7</td>\n",
       "      <td>3</td>\n",
       "    </tr>\n",
       "    <tr>\n",
       "      <th>2</th>\n",
       "      <td>2</td>\n",
       "      <td>Malešnica</td>\n",
       "      <td>10000</td>\n",
       "      <td>259.000</td>\n",
       "      <td>1.704</td>\n",
       "      <td>152,0</td>\n",
       "      <td>4</td>\n",
       "    </tr>\n",
       "    <tr>\n",
       "      <th>3</th>\n",
       "      <td>3</td>\n",
       "      <td>Črnomerec</td>\n",
       "      <td>10000</td>\n",
       "      <td>239.000</td>\n",
       "      <td>1.648</td>\n",
       "      <td>145,0</td>\n",
       "      <td>4</td>\n",
       "    </tr>\n",
       "    <tr>\n",
       "      <th>4</th>\n",
       "      <td>4</td>\n",
       "      <td>Stenjevec</td>\n",
       "      <td>10090</td>\n",
       "      <td>140.000</td>\n",
       "      <td>1.779</td>\n",
       "      <td>78,69</td>\n",
       "      <td>3</td>\n",
       "    </tr>\n",
       "  </tbody>\n",
       "</table>\n",
       "</div>"
      ],
      "text/plain": [
       "   Unnamed: 0   Location  Post_number    Price Sqft_price Living_area  Rooms\n",
       "0           0     Trnsko        10020    naupi      50,00       2broj      0\n",
       "1           1  Malešnica        10000  159.000      1.217       130,7      3\n",
       "2           2  Malešnica        10000  259.000      1.704       152,0      4\n",
       "3           3  Črnomerec        10000  239.000      1.648       145,0      4\n",
       "4           4  Stenjevec        10090  140.000      1.779       78,69      3"
      ]
     },
     "execution_count": 377,
     "metadata": {},
     "output_type": "execute_result"
    }
   ],
   "source": [
    "#removing last 5 character in string \n",
    "df3[\"Price\"] = [x[:-1] for x in df2[\"Price\"]]\n",
    "df3.head()"
   ]
  },
  {
   "cell_type": "code",
   "execution_count": 378,
   "metadata": {
    "scrolled": false
   },
   "outputs": [],
   "source": [
    "df3=df3[df3[\"Price\"]!=\"naupi\"]"
   ]
  },
  {
   "cell_type": "code",
   "execution_count": 379,
   "metadata": {
    "scrolled": false
   },
   "outputs": [
    {
     "data": {
      "text/plain": [
       "(2898, 7)"
      ]
     },
     "execution_count": 379,
     "metadata": {},
     "output_type": "execute_result"
    }
   ],
   "source": [
    "df3.shape"
   ]
  },
  {
   "cell_type": "code",
   "execution_count": 380,
   "metadata": {},
   "outputs": [],
   "source": [
    "df3[\"Price\"]=df3[\"Price\"].str.extract(\"(\\d*\\.?\\d+)\", expand=True)"
   ]
  },
  {
   "cell_type": "code",
   "execution_count": 381,
   "metadata": {},
   "outputs": [
    {
     "data": {
      "text/html": [
       "<div>\n",
       "<style scoped>\n",
       "    .dataframe tbody tr th:only-of-type {\n",
       "        vertical-align: middle;\n",
       "    }\n",
       "\n",
       "    .dataframe tbody tr th {\n",
       "        vertical-align: top;\n",
       "    }\n",
       "\n",
       "    .dataframe thead th {\n",
       "        text-align: right;\n",
       "    }\n",
       "</style>\n",
       "<table border=\"1\" class=\"dataframe\">\n",
       "  <thead>\n",
       "    <tr style=\"text-align: right;\">\n",
       "      <th></th>\n",
       "      <th>Unnamed: 0</th>\n",
       "      <th>Location</th>\n",
       "      <th>Post_number</th>\n",
       "      <th>Price</th>\n",
       "      <th>Sqft_price</th>\n",
       "      <th>Living_area</th>\n",
       "      <th>Rooms</th>\n",
       "    </tr>\n",
       "  </thead>\n",
       "  <tbody>\n",
       "    <tr>\n",
       "      <th>1</th>\n",
       "      <td>1</td>\n",
       "      <td>Malešnica</td>\n",
       "      <td>10000</td>\n",
       "      <td>159.000</td>\n",
       "      <td>1.217</td>\n",
       "      <td>130,7</td>\n",
       "      <td>3</td>\n",
       "    </tr>\n",
       "    <tr>\n",
       "      <th>2</th>\n",
       "      <td>2</td>\n",
       "      <td>Malešnica</td>\n",
       "      <td>10000</td>\n",
       "      <td>259.000</td>\n",
       "      <td>1.704</td>\n",
       "      <td>152,0</td>\n",
       "      <td>4</td>\n",
       "    </tr>\n",
       "    <tr>\n",
       "      <th>3</th>\n",
       "      <td>3</td>\n",
       "      <td>Črnomerec</td>\n",
       "      <td>10000</td>\n",
       "      <td>239.000</td>\n",
       "      <td>1.648</td>\n",
       "      <td>145,0</td>\n",
       "      <td>4</td>\n",
       "    </tr>\n",
       "    <tr>\n",
       "      <th>4</th>\n",
       "      <td>4</td>\n",
       "      <td>Stenjevec</td>\n",
       "      <td>10090</td>\n",
       "      <td>140.000</td>\n",
       "      <td>1.779</td>\n",
       "      <td>78,69</td>\n",
       "      <td>3</td>\n",
       "    </tr>\n",
       "    <tr>\n",
       "      <th>5</th>\n",
       "      <td>5</td>\n",
       "      <td>Vrbani</td>\n",
       "      <td>10000</td>\n",
       "      <td>105.000</td>\n",
       "      <td>2.917</td>\n",
       "      <td>36,00</td>\n",
       "      <td>2</td>\n",
       "    </tr>\n",
       "  </tbody>\n",
       "</table>\n",
       "</div>"
      ],
      "text/plain": [
       "   Unnamed: 0   Location  Post_number    Price Sqft_price Living_area  Rooms\n",
       "1           1  Malešnica        10000  159.000      1.217       130,7      3\n",
       "2           2  Malešnica        10000  259.000      1.704       152,0      4\n",
       "3           3  Črnomerec        10000  239.000      1.648       145,0      4\n",
       "4           4  Stenjevec        10090  140.000      1.779       78,69      3\n",
       "5           5     Vrbani        10000  105.000      2.917       36,00      2"
      ]
     },
     "execution_count": 381,
     "metadata": {},
     "output_type": "execute_result"
    }
   ],
   "source": [
    "df3.head()"
   ]
  },
  {
   "cell_type": "code",
   "execution_count": 382,
   "metadata": {},
   "outputs": [],
   "source": [
    "df3[\"Price\"]=df3[\"Price\"].astype(float)"
   ]
  },
  {
   "cell_type": "code",
   "execution_count": 384,
   "metadata": {},
   "outputs": [
    {
     "data": {
      "text/html": [
       "<div>\n",
       "<style scoped>\n",
       "    .dataframe tbody tr th:only-of-type {\n",
       "        vertical-align: middle;\n",
       "    }\n",
       "\n",
       "    .dataframe tbody tr th {\n",
       "        vertical-align: top;\n",
       "    }\n",
       "\n",
       "    .dataframe thead th {\n",
       "        text-align: right;\n",
       "    }\n",
       "</style>\n",
       "<table border=\"1\" class=\"dataframe\">\n",
       "  <thead>\n",
       "    <tr style=\"text-align: right;\">\n",
       "      <th></th>\n",
       "      <th>Unnamed: 0</th>\n",
       "      <th>Location</th>\n",
       "      <th>Post_number</th>\n",
       "      <th>Price</th>\n",
       "      <th>Sqft_price</th>\n",
       "      <th>Living_area</th>\n",
       "      <th>Rooms</th>\n",
       "    </tr>\n",
       "  </thead>\n",
       "  <tbody>\n",
       "    <tr>\n",
       "      <th>1</th>\n",
       "      <td>1</td>\n",
       "      <td>Malešnica</td>\n",
       "      <td>10000</td>\n",
       "      <td>159.000</td>\n",
       "      <td>1.217</td>\n",
       "      <td>130,7</td>\n",
       "      <td>3</td>\n",
       "    </tr>\n",
       "    <tr>\n",
       "      <th>2</th>\n",
       "      <td>2</td>\n",
       "      <td>Malešnica</td>\n",
       "      <td>10000</td>\n",
       "      <td>259.000</td>\n",
       "      <td>1.704</td>\n",
       "      <td>152,0</td>\n",
       "      <td>4</td>\n",
       "    </tr>\n",
       "    <tr>\n",
       "      <th>3</th>\n",
       "      <td>3</td>\n",
       "      <td>Črnomerec</td>\n",
       "      <td>10000</td>\n",
       "      <td>239.000</td>\n",
       "      <td>1.648</td>\n",
       "      <td>145,0</td>\n",
       "      <td>4</td>\n",
       "    </tr>\n",
       "    <tr>\n",
       "      <th>4</th>\n",
       "      <td>4</td>\n",
       "      <td>Stenjevec</td>\n",
       "      <td>10090</td>\n",
       "      <td>140.000</td>\n",
       "      <td>1.779</td>\n",
       "      <td>78,69</td>\n",
       "      <td>3</td>\n",
       "    </tr>\n",
       "    <tr>\n",
       "      <th>5</th>\n",
       "      <td>5</td>\n",
       "      <td>Vrbani</td>\n",
       "      <td>10000</td>\n",
       "      <td>105.000</td>\n",
       "      <td>2.917</td>\n",
       "      <td>36,00</td>\n",
       "      <td>2</td>\n",
       "    </tr>\n",
       "    <tr>\n",
       "      <th>6</th>\n",
       "      <td>6</td>\n",
       "      <td>Malešnica</td>\n",
       "      <td>10000</td>\n",
       "      <td>169.000</td>\n",
       "      <td>1.493</td>\n",
       "      <td>113,2</td>\n",
       "      <td>4</td>\n",
       "    </tr>\n",
       "    <tr>\n",
       "      <th>8</th>\n",
       "      <td>8</td>\n",
       "      <td>Kajzerica</td>\n",
       "      <td>10020</td>\n",
       "      <td>70.000</td>\n",
       "      <td>1.628</td>\n",
       "      <td>43,00</td>\n",
       "      <td>3</td>\n",
       "    </tr>\n",
       "    <tr>\n",
       "      <th>9</th>\n",
       "      <td>9</td>\n",
       "      <td>Špansko</td>\n",
       "      <td>10147</td>\n",
       "      <td>125.000</td>\n",
       "      <td>1.838</td>\n",
       "      <td>68,00</td>\n",
       "      <td>3</td>\n",
       "    </tr>\n",
       "    <tr>\n",
       "      <th>10</th>\n",
       "      <td>10</td>\n",
       "      <td>Trešnjevka</td>\n",
       "      <td>10110</td>\n",
       "      <td>75.000</td>\n",
       "      <td>1.667</td>\n",
       "      <td>45,00</td>\n",
       "      <td>2</td>\n",
       "    </tr>\n",
       "    <tr>\n",
       "      <th>11</th>\n",
       "      <td>11</td>\n",
       "      <td>Trnje</td>\n",
       "      <td>10020</td>\n",
       "      <td>1.210</td>\n",
       "      <td>3.656</td>\n",
       "      <td>331,0</td>\n",
       "      <td>7</td>\n",
       "    </tr>\n",
       "    <tr>\n",
       "      <th>12</th>\n",
       "      <td>12</td>\n",
       "      <td>Črnomerec</td>\n",
       "      <td>10000</td>\n",
       "      <td>195.000</td>\n",
       "      <td>1.950</td>\n",
       "      <td>100,0</td>\n",
       "      <td>4</td>\n",
       "    </tr>\n",
       "    <tr>\n",
       "      <th>13</th>\n",
       "      <td>13</td>\n",
       "      <td>Trešnjevka</td>\n",
       "      <td>10110</td>\n",
       "      <td>85.000</td>\n",
       "      <td>2.500</td>\n",
       "      <td>34,00</td>\n",
       "      <td>2</td>\n",
       "    </tr>\n",
       "    <tr>\n",
       "      <th>14</th>\n",
       "      <td>14</td>\n",
       "      <td>DonjiGrad</td>\n",
       "      <td>10000</td>\n",
       "      <td>129.000</td>\n",
       "      <td>1.792</td>\n",
       "      <td>72,00</td>\n",
       "      <td>3</td>\n",
       "    </tr>\n",
       "    <tr>\n",
       "      <th>15</th>\n",
       "      <td>15</td>\n",
       "      <td>Črnomerec</td>\n",
       "      <td>10000</td>\n",
       "      <td>140.000</td>\n",
       "      <td>1.972</td>\n",
       "      <td>71,00</td>\n",
       "      <td>2</td>\n",
       "    </tr>\n",
       "    <tr>\n",
       "      <th>16</th>\n",
       "      <td>16</td>\n",
       "      <td>Sesvete</td>\n",
       "      <td>10360</td>\n",
       "      <td>125.000</td>\n",
       "      <td>1.603</td>\n",
       "      <td>78,00</td>\n",
       "      <td>3</td>\n",
       "    </tr>\n",
       "    <tr>\n",
       "      <th>17</th>\n",
       "      <td>17</td>\n",
       "      <td>Trešnjevka</td>\n",
       "      <td>10110</td>\n",
       "      <td>112.943</td>\n",
       "      <td>2.689</td>\n",
       "      <td>42,00</td>\n",
       "      <td>2</td>\n",
       "    </tr>\n",
       "    <tr>\n",
       "      <th>18</th>\n",
       "      <td>18</td>\n",
       "      <td>Šestine</td>\n",
       "      <td>10000</td>\n",
       "      <td>273.000</td>\n",
       "      <td>3.545</td>\n",
       "      <td>77,00</td>\n",
       "      <td>3</td>\n",
       "    </tr>\n",
       "    <tr>\n",
       "      <th>19</th>\n",
       "      <td>19</td>\n",
       "      <td>DonjiGrad</td>\n",
       "      <td>10000</td>\n",
       "      <td>175.000</td>\n",
       "      <td>3.241</td>\n",
       "      <td>54,00</td>\n",
       "      <td>3</td>\n",
       "    </tr>\n",
       "    <tr>\n",
       "      <th>21</th>\n",
       "      <td>21</td>\n",
       "      <td>Malešnica</td>\n",
       "      <td>10000</td>\n",
       "      <td>159.000</td>\n",
       "      <td>1.217</td>\n",
       "      <td>130,7</td>\n",
       "      <td>3</td>\n",
       "    </tr>\n",
       "    <tr>\n",
       "      <th>22</th>\n",
       "      <td>22</td>\n",
       "      <td>Malešnica</td>\n",
       "      <td>10000</td>\n",
       "      <td>259.000</td>\n",
       "      <td>1.704</td>\n",
       "      <td>152,0</td>\n",
       "      <td>4</td>\n",
       "    </tr>\n",
       "  </tbody>\n",
       "</table>\n",
       "</div>"
      ],
      "text/plain": [
       "    Unnamed: 0    Location  Post_number    Price Sqft_price Living_area  Rooms\n",
       "1            1   Malešnica        10000  159.000      1.217       130,7      3\n",
       "2            2   Malešnica        10000  259.000      1.704       152,0      4\n",
       "3            3   Črnomerec        10000  239.000      1.648       145,0      4\n",
       "4            4   Stenjevec        10090  140.000      1.779       78,69      3\n",
       "5            5      Vrbani        10000  105.000      2.917       36,00      2\n",
       "6            6   Malešnica        10000  169.000      1.493       113,2      4\n",
       "8            8   Kajzerica        10020   70.000      1.628       43,00      3\n",
       "9            9     Špansko        10147  125.000      1.838       68,00      3\n",
       "10          10  Trešnjevka        10110   75.000      1.667       45,00      2\n",
       "11          11       Trnje        10020    1.210      3.656       331,0      7\n",
       "12          12   Črnomerec        10000  195.000      1.950       100,0      4\n",
       "13          13  Trešnjevka        10110   85.000      2.500       34,00      2\n",
       "14          14   DonjiGrad        10000  129.000      1.792       72,00      3\n",
       "15          15   Črnomerec        10000  140.000      1.972       71,00      2\n",
       "16          16     Sesvete        10360  125.000      1.603       78,00      3\n",
       "17          17  Trešnjevka        10110  112.943      2.689       42,00      2\n",
       "18          18     Šestine        10000  273.000      3.545       77,00      3\n",
       "19          19   DonjiGrad        10000  175.000      3.241       54,00      3\n",
       "21          21   Malešnica        10000  159.000      1.217       130,7      3\n",
       "22          22   Malešnica        10000  259.000      1.704       152,0      4"
      ]
     },
     "execution_count": 384,
     "metadata": {},
     "output_type": "execute_result"
    }
   ],
   "source": [
    "df3.head(20)"
   ]
  },
  {
   "cell_type": "code",
   "execution_count": 308,
   "metadata": {},
   "outputs": [],
   "source": [
    "df4=df3.copy()"
   ]
  },
  {
   "cell_type": "code",
   "execution_count": 309,
   "metadata": {},
   "outputs": [],
   "source": [
    "#extracting only numeric values \n",
    "df4[\"Living_area\"]=df3[\"Living_area\"].str.extract(\"(\\d*\\.?\\d+)\", expand=True)"
   ]
  },
  {
   "cell_type": "code",
   "execution_count": 310,
   "metadata": {},
   "outputs": [],
   "source": [
    "#converting into float\n",
    "df4[\"Living_area\"]=df4[\"Living_area\"].astype(float)"
   ]
  },
  {
   "cell_type": "code",
   "execution_count": 311,
   "metadata": {},
   "outputs": [],
   "source": [
    "#converting into float\n",
    "df4[\"Sqft_price\"]=df4[\"Sqft_price\"].astype(float)*1000"
   ]
  },
  {
   "cell_type": "code",
   "execution_count": 312,
   "metadata": {
    "scrolled": true
   },
   "outputs": [
    {
     "data": {
      "text/plain": [
       "Malešnica     483\n",
       "Črnomerec     483\n",
       "Trešnjevka    483\n",
       "DonjiGrad     322\n",
       "Špansko       161\n",
       "Vrbani        161\n",
       "Sesvete       161\n",
       "Kajzerica     161\n",
       "Trnje         161\n",
       "Šestine       161\n",
       "Stenjevec     161\n",
       "Name: Location, dtype: int64"
      ]
     },
     "execution_count": 312,
     "metadata": {},
     "output_type": "execute_result"
    }
   ],
   "source": [
    "#counting location\n",
    "df4[\"Location\"].value_counts()"
   ]
  },
  {
   "cell_type": "code",
   "execution_count": 313,
   "metadata": {},
   "outputs": [
    {
     "data": {
      "text/plain": [
       "count    2898.000000\n",
       "mean        3.166667\n",
       "std         1.166868\n",
       "min         2.000000\n",
       "25%         2.000000\n",
       "50%         3.000000\n",
       "75%         4.000000\n",
       "max         7.000000\n",
       "Name: Rooms, dtype: float64"
      ]
     },
     "execution_count": 313,
     "metadata": {},
     "output_type": "execute_result"
    }
   ],
   "source": [
    "df4[\"Rooms\"].describe()"
   ]
  },
  {
   "cell_type": "code",
   "execution_count": 325,
   "metadata": {
    "scrolled": true
   },
   "outputs": [
    {
     "data": {
      "text/html": [
       "<div>\n",
       "<style scoped>\n",
       "    .dataframe tbody tr th:only-of-type {\n",
       "        vertical-align: middle;\n",
       "    }\n",
       "\n",
       "    .dataframe tbody tr th {\n",
       "        vertical-align: top;\n",
       "    }\n",
       "\n",
       "    .dataframe thead th {\n",
       "        text-align: right;\n",
       "    }\n",
       "</style>\n",
       "<table border=\"1\" class=\"dataframe\">\n",
       "  <thead>\n",
       "    <tr style=\"text-align: right;\">\n",
       "      <th></th>\n",
       "      <th>Location</th>\n",
       "      <th>Post_number</th>\n",
       "      <th>Price</th>\n",
       "      <th>Sqft_price</th>\n",
       "      <th>Living_area</th>\n",
       "      <th>Rooms</th>\n",
       "    </tr>\n",
       "  </thead>\n",
       "  <tbody>\n",
       "    <tr>\n",
       "      <th>1</th>\n",
       "      <td>Malešnica</td>\n",
       "      <td>10000</td>\n",
       "      <td>159.0</td>\n",
       "      <td>1217.0</td>\n",
       "      <td>130.0</td>\n",
       "      <td>3</td>\n",
       "    </tr>\n",
       "    <tr>\n",
       "      <th>2</th>\n",
       "      <td>Malešnica</td>\n",
       "      <td>10000</td>\n",
       "      <td>259.0</td>\n",
       "      <td>1704.0</td>\n",
       "      <td>152.0</td>\n",
       "      <td>4</td>\n",
       "    </tr>\n",
       "    <tr>\n",
       "      <th>3</th>\n",
       "      <td>Črnomerec</td>\n",
       "      <td>10000</td>\n",
       "      <td>239.0</td>\n",
       "      <td>1648.0</td>\n",
       "      <td>145.0</td>\n",
       "      <td>4</td>\n",
       "    </tr>\n",
       "    <tr>\n",
       "      <th>4</th>\n",
       "      <td>Stenjevec</td>\n",
       "      <td>10090</td>\n",
       "      <td>140.0</td>\n",
       "      <td>1779.0</td>\n",
       "      <td>78.0</td>\n",
       "      <td>3</td>\n",
       "    </tr>\n",
       "    <tr>\n",
       "      <th>5</th>\n",
       "      <td>Vrbani</td>\n",
       "      <td>10000</td>\n",
       "      <td>105.0</td>\n",
       "      <td>2917.0</td>\n",
       "      <td>36.0</td>\n",
       "      <td>2</td>\n",
       "    </tr>\n",
       "  </tbody>\n",
       "</table>\n",
       "</div>"
      ],
      "text/plain": [
       "    Location  Post_number  Price  Sqft_price  Living_area  Rooms\n",
       "1  Malešnica        10000  159.0      1217.0        130.0      3\n",
       "2  Malešnica        10000  259.0      1704.0        152.0      4\n",
       "3  Črnomerec        10000  239.0      1648.0        145.0      4\n",
       "4  Stenjevec        10090  140.0      1779.0         78.0      3\n",
       "5     Vrbani        10000  105.0      2917.0         36.0      2"
      ]
     },
     "execution_count": 325,
     "metadata": {},
     "output_type": "execute_result"
    }
   ],
   "source": [
    "df4.head()"
   ]
  },
  {
   "cell_type": "code",
   "execution_count": 315,
   "metadata": {},
   "outputs": [
    {
     "name": "stdout",
     "output_type": "stream",
     "text": [
      "<class 'pandas.core.frame.DataFrame'>\n",
      "Int64Index: 2898 entries, 1 to 3219\n",
      "Data columns (total 7 columns):\n",
      " #   Column       Non-Null Count  Dtype  \n",
      "---  ------       --------------  -----  \n",
      " 0   Unnamed: 0   2898 non-null   int64  \n",
      " 1   Location     2898 non-null   object \n",
      " 2   Post_number  2898 non-null   int64  \n",
      " 3   Price        2898 non-null   float64\n",
      " 4   Sqft_price   2898 non-null   float64\n",
      " 5   Living_area  2898 non-null   float64\n",
      " 6   Rooms        2898 non-null   int64  \n",
      "dtypes: float64(3), int64(3), object(1)\n",
      "memory usage: 181.1+ KB\n"
     ]
    }
   ],
   "source": [
    "df4.info()"
   ]
  },
  {
   "cell_type": "code",
   "execution_count": 316,
   "metadata": {},
   "outputs": [],
   "source": [
    "#Droping column\n",
    "df4=df4.drop([\"Unnamed: 0\"],axis=1)"
   ]
  },
  {
   "cell_type": "code",
   "execution_count": 317,
   "metadata": {},
   "outputs": [
    {
     "data": {
      "text/plain": [
       "(2898, 6)"
      ]
     },
     "execution_count": 317,
     "metadata": {},
     "output_type": "execute_result"
    }
   ],
   "source": [
    "df4.shape"
   ]
  },
  {
   "cell_type": "markdown",
   "metadata": {},
   "source": [
    "## Analyzing aprtments in Zagreb"
   ]
  },
  {
   "cell_type": "code",
   "execution_count": 318,
   "metadata": {},
   "outputs": [],
   "source": [
    "import seaborn as sns\n",
    "from matplotlib import cm\n",
    "import numpy as np\n",
    "import matplotlib.pyplot as plt\n",
    "%matplotlib inline"
   ]
  },
  {
   "cell_type": "markdown",
   "metadata": {},
   "source": [
    "### The most expensive location in Zagreb "
   ]
  },
  {
   "cell_type": "code",
   "execution_count": 319,
   "metadata": {},
   "outputs": [
    {
     "data": {
      "text/plain": [
       "Location\n",
       "DonjiGrad     2516.500000\n",
       "Kajzerica     1628.000000\n",
       "Malešnica     1471.333333\n",
       "Sesvete       1603.000000\n",
       "Stenjevec     1779.000000\n",
       "Trešnjevka    2285.333333\n",
       "Trnje         3656.000000\n",
       "Vrbani        2917.000000\n",
       "Črnomerec     1856.666667\n",
       "Šestine       3545.000000\n",
       "Špansko       1838.000000\n",
       "Name: Sqft_price, dtype: float64"
      ]
     },
     "execution_count": 319,
     "metadata": {},
     "output_type": "execute_result"
    }
   ],
   "source": [
    "#avaerage sqft price by location\n",
    "df4.groupby(\"Location\")[\"Sqft_price\"].mean()"
   ]
  },
  {
   "cell_type": "code",
   "execution_count": 320,
   "metadata": {},
   "outputs": [
    {
     "data": {
      "text/plain": [
       "<AxesSubplot:xlabel='Location'>"
      ]
     },
     "execution_count": 320,
     "metadata": {},
     "output_type": "execute_result"
    },
    {
     "data": {
      "image/png": "[encoded data removed]",
      "text/plain": [
       "<Figure size 864x576 with 1 Axes>"
      ]
     },
     "metadata": {
      "needs_background": "light"
     },
     "output_type": "display_data"
    }
   ],
   "source": [
    "# Average sqft price  by location in Zagreb\n",
    "location=df4.groupby(\"Location\")[\"Sqft_price\"].mean().reset_index(\"Location\")\n",
    "color = cm.inferno_r(np.linspace(.4, .8, 30))\n",
    "location=location.sort_values(\"Sqft_price\" , ascending=[False])\n",
    "location.plot.bar(x=\"Location\", y='Sqft_price', color=color , figsize=(12,8))"
   ]
  },
  {
   "cell_type": "markdown",
   "metadata": {},
   "source": [
    "From above we can see that Trnje and Šestine are the most expensive location for buying apartment by sqft."
   ]
  },
  {
   "cell_type": "markdown",
   "metadata": {},
   "source": [
    "### Apartment with most living area by location"
   ]
  },
  {
   "cell_type": "code",
   "execution_count": 321,
   "metadata": {},
   "outputs": [
    {
     "data": {
      "text/plain": [
       "Location\n",
       "DonjiGrad      72.0\n",
       "Kajzerica      43.0\n",
       "Malešnica     152.0\n",
       "Sesvete        78.0\n",
       "Stenjevec      78.0\n",
       "Trešnjevka     45.0\n",
       "Trnje         331.0\n",
       "Vrbani         36.0\n",
       "Črnomerec     145.0\n",
       "Šestine        77.0\n",
       "Špansko        68.0\n",
       "Name: Living_area, dtype: float64"
      ]
     },
     "execution_count": 321,
     "metadata": {},
     "output_type": "execute_result"
    }
   ],
   "source": [
    "df4.groupby(\"Location\")[\"Living_area\"].max()"
   ]
  },
  {
   "cell_type": "code",
   "execution_count": 322,
   "metadata": {},
   "outputs": [
    {
     "data": {
      "text/plain": [
       "Text(0, 0.5, 'm2')"
      ]
     },
     "execution_count": 322,
     "metadata": {},
     "output_type": "execute_result"
    },
    {
     "data": {
      "image/png": "[encoded data removed]",
      "text/plain": [
       "<Figure size 576x288 with 1 Axes>"
      ]
     },
     "metadata": {
      "needs_background": "light"
     },
     "output_type": "display_data"
    }
   ],
   "source": [
    "plt.figure(figsize=(8,4))\n",
    "df4.groupby(\"Location\")[\"Living_area\"].max().plot.bar()\n",
    "plt.ylabel(\"m2\")"
   ]
  },
  {
   "cell_type": "markdown",
   "metadata": {},
   "source": [
    "The biggest apartment is located in Trnje and has 331 m2."
   ]
  },
  {
   "cell_type": "code",
   "execution_count": 389,
   "metadata": {},
   "outputs": [
    {
     "name": "stderr",
     "output_type": "stream",
     "text": [
      "/home/mattdmv/anaconda3/lib/python3.8/site-packages/seaborn/_decorators.py:36: FutureWarning: Pass the following variables as keyword args: x, y. From version 0.12, the only valid positional argument will be `data`, and passing other arguments without an explicit keyword will result in an error or misinterpretation.\n",
      "  warnings.warn(\n"
     ]
    },
    {
     "data": {
      "image/png": "[encoded data removed]",
      "text/plain": [
       "<Figure size 864x432 with 1 Axes>"
      ]
     },
     "metadata": {
      "needs_background": "light"
     },
     "output_type": "display_data"
    }
   ],
   "source": [
    "title = 'Rooms by living_area in location'\n",
    "plt.figure(figsize=(12,6))\n",
    "sns.scatterplot(df4.Location,df4.Living_area,hue=df4.Rooms).set_title(title)\n",
    "plt.ioff()"
   ]
  }
 ],
 "metadata": {
  "kernelspec": {
   "display_name": "Python 3",
   "language": "python",
   "name": "python3"
  },
  "language_info": {
   "codemirror_mode": {
    "name": "ipython",
    "version": 3
   },
   "file_extension": ".py",
   "mimetype": "text/x-python",
   "name": "python",
   "nbconvert_exporter": "python",
   "pygments_lexer": "ipython3",
   "version": "3.8.5"
  }
 },
 "nbformat": 4,
 "nbformat_minor": 4
}
