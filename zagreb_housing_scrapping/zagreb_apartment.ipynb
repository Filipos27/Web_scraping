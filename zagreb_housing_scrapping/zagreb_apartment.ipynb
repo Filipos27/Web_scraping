{
 "cells": [
  {
   "cell_type": "markdown",
   "metadata": {},
   "source": [
    "# Web scrapping project - house price in Zagreb"
   ]
  },
  {
   "cell_type": "markdown",
   "metadata": {},
   "source": [
    "In this project we are going to use selenium webdriver and beautifulSoup for scrapping information of apartments in Zagreb,Croatia. After we are going to analyze all apartments and predict their price based on location,living area and number of rooms"
   ]
  },
  {
   "cell_type": "code",
   "execution_count": 221,
   "metadata": {
    "scrolled": true
   },
   "outputs": [],
   "source": [
    "#importing libraries\n",
    "import csv\n",
    "from bs4 import BeautifulSoup\n",
    "from webdriver_manager.chrome import ChromeDriverManager\n",
    "from selenium import webdriver"
   ]
  },
  {
   "cell_type": "code",
   "execution_count": 222,
   "metadata": {},
   "outputs": [
    {
     "name": "stderr",
     "output_type": "stream",
     "text": [
      "[WDM] - ====== WebDriver manager ======\n",
      "[WDM] - Current google-chrome version is 89.0.4389\n",
      "[WDM] - Get LATEST driver version for 89.0.4389\n"
     ]
    },
    {
     "name": "stdout",
     "output_type": "stream",
     "text": [
      "\n",
      "\n"
     ]
    },
    {
     "name": "stderr",
     "output_type": "stream",
     "text": [
      "[WDM] - Driver [/home/mattdmv/.wdm/drivers/chromedriver/linux64/89.0.4389.23/chromedriver] found in cache\n"
     ]
    }
   ],
   "source": [
    "#setting Chrome driver\n",
    "driver = webdriver.Chrome(ChromeDriverManager().install())"
   ]
  },
  {
   "cell_type": "code",
   "execution_count": 223,
   "metadata": {},
   "outputs": [],
   "source": [
    "# gettin url of page we want to scrap\n",
    "url =\"https://www.crozilla-nekretnine.com/oglasi/zagreb/stanovi/prodaja?page=1\"\n",
    "driver.get(url)"
   ]
  },
  {
   "cell_type": "code",
   "execution_count": 188,
   "metadata": {},
   "outputs": [],
   "source": [
    "# setting soup\n",
    "soup= BeautifulSoup(driver.page_source,\"html.parser\")"
   ]
  },
  {
   "cell_type": "code",
   "execution_count": 189,
   "metadata": {},
   "outputs": [],
   "source": [
    "#finding all apartmets on single page\n",
    "apartments=soup.find_all(\"div\",\"ct-main-content\")"
   ]
  },
  {
   "cell_type": "code",
   "execution_count": 190,
   "metadata": {},
   "outputs": [
    {
     "data": {
      "text/plain": [
       "20"
      ]
     },
     "execution_count": 190,
     "metadata": {},
     "output_type": "execute_result"
    }
   ],
   "source": [
    "len(apartments)"
   ]
  },
  {
   "cell_type": "code",
   "execution_count": 191,
   "metadata": {},
   "outputs": [],
   "source": [
    "# identifying second apartment\n",
    "sec_apartment=apartments[1]"
   ]
  },
  {
   "cell_type": "code",
   "execution_count": 192,
   "metadata": {
    "scrolled": true
   },
   "outputs": [
    {
     "data": {
      "text/plain": [
       "'Trešnjevka'"
      ]
     },
     "execution_count": 192,
     "metadata": {},
     "output_type": "execute_result"
    }
   ],
   "source": [
    "#Location\n",
    "sec_apartment.find(\"div\",\"ct-headline overflow\").text.strip().replace(\" \",\"\").split(\"\\n\")[1]"
   ]
  },
  {
   "cell_type": "code",
   "execution_count": 219,
   "metadata": {},
   "outputs": [
    {
     "data": {
      "text/plain": [
       "'76.000'"
      ]
     },
     "execution_count": 219,
     "metadata": {},
     "output_type": "execute_result"
    }
   ],
   "source": [
    "#price of apartment\n",
    "sec_apartment.find(\"span\",\"upper price-big\").text.strip().replace(\"\\n\",\"\").replace(\" \",\"\").replace(\"€\",\"\")"
   ]
  },
  {
   "cell_type": "code",
   "execution_count": 194,
   "metadata": {},
   "outputs": [
    {
     "data": {
      "text/plain": [
       "'22'"
      ]
     },
     "execution_count": 194,
     "metadata": {},
     "output_type": "execute_result"
    }
   ],
   "source": [
    "#Living area\n",
    "sec_apartment.find_all(\"li\")[2].text.strip().replace(\"\\n\",\"\")[:5]"
   ]
  },
  {
   "cell_type": "code",
   "execution_count": 195,
   "metadata": {},
   "outputs": [
    {
     "data": {
      "text/plain": [
       "'2.375'"
      ]
     },
     "execution_count": 195,
     "metadata": {},
     "output_type": "execute_result"
    }
   ],
   "source": [
    "#Price per sqft\n",
    "sec_apartment.find_all(\"li\")[1].text.strip()[:5]"
   ]
  },
  {
   "cell_type": "code",
   "execution_count": 196,
   "metadata": {},
   "outputs": [
    {
     "data": {
      "text/plain": [
       "'1'"
      ]
     },
     "execution_count": 196,
     "metadata": {},
     "output_type": "execute_result"
    }
   ],
   "source": [
    "#Rooms\n",
    "sec_apartment.find_all(\"li\")[3].text.strip().replace(\"\\nbroj soba\",\"\")"
   ]
  },
  {
   "cell_type": "code",
   "execution_count": 224,
   "metadata": {},
   "outputs": [],
   "source": [
    "Location=[]\n",
    "Post_number=[]\n",
    "Price=[]\n",
    "Sqft=[]\n",
    "Living_area=[]\n",
    "Rooms=[]\n",
    "pages=range(1,162)\n",
    "\n",
    "for page in pages:\n",
    "    url =\"https://www.crozilla-nekretnine.com/oglasi/zagreb/stanovi/prodaja?page={}\".format(page)\n",
    "    driver.get(url)\n",
    "    soup= BeautifulSoup(driver.page_source,\"html.parser\")\n",
    "    apartments=soup.find_all(\"div\",\"ct-main-content\")\n",
    "    for i in apartments:\n",
    "        Location.append(i.find(\"div\",\"ct-headline overflow\").text.strip().replace(\" \",\"\").split(\"\\n\")[1])\n",
    "        Post_number.append(i.find(\"div\",\"ct-headline overflow\").text.strip()[:5])                \n",
    "        Price.append(i.find(\"span\",\"upper price-big\").text.strip().replace(\"\\n\",\"\").replace(\" \",\"\").replace(\"€\",\"\"))\n",
    "        Sqft.append(i.find_all(\"li\")[1].text.strip()[:5])\n",
    "        Living_area.append(i.find_all(\"li\")[2].text.strip().replace(\"\\n\",\"\")[:5])\n",
    "        try:\n",
    "            Rooms.append(i.find_all(\"li\")[3].text.strip().replace(\"\\nbroj soba\",\"\"))\n",
    "        except:\n",
    "            Rooms.append(0)"
   ]
  },
  {
   "cell_type": "code",
   "execution_count": 225,
   "metadata": {},
   "outputs": [],
   "source": [
    "data=list(zip(Location,Post_number,Price,Sqft,Living_area,Rooms))"
   ]
  },
  {
   "cell_type": "code",
   "execution_count": 1,
   "metadata": {},
   "outputs": [],
   "source": [
    "import pandas as pd"
   ]
  },
  {
   "cell_type": "code",
   "execution_count": 227,
   "metadata": {},
   "outputs": [],
   "source": [
    "#making dataframe\n",
    "df=pd.DataFrame(data,columns=[\"Location\",\"Post_number\",\"Price\",\"Price_per_sqft\",\"Living_area\",\"Rooms\"])"
   ]
  },
  {
   "cell_type": "code",
   "execution_count": 228,
   "metadata": {},
   "outputs": [
    {
     "data": {
      "text/plain": [
       "(3220, 6)"
      ]
     },
     "execution_count": 228,
     "metadata": {},
     "output_type": "execute_result"
    }
   ],
   "source": [
    "df.shape"
   ]
  },
  {
   "cell_type": "code",
   "execution_count": 229,
   "metadata": {},
   "outputs": [
    {
     "data": {
      "text/html": [
       "<div>\n",
       "<style scoped>\n",
       "    .dataframe tbody tr th:only-of-type {\n",
       "        vertical-align: middle;\n",
       "    }\n",
       "\n",
       "    .dataframe tbody tr th {\n",
       "        vertical-align: top;\n",
       "    }\n",
       "\n",
       "    .dataframe thead th {\n",
       "        text-align: right;\n",
       "    }\n",
       "</style>\n",
       "<table border=\"1\" class=\"dataframe\">\n",
       "  <thead>\n",
       "    <tr style=\"text-align: right;\">\n",
       "      <th></th>\n",
       "      <th>Location</th>\n",
       "      <th>Post_number</th>\n",
       "      <th>Price</th>\n",
       "      <th>Price_per_sqft</th>\n",
       "      <th>Living_area</th>\n",
       "      <th>Rooms</th>\n",
       "    </tr>\n",
       "  </thead>\n",
       "  <tbody>\n",
       "    <tr>\n",
       "      <th>451</th>\n",
       "      <td>Centar</td>\n",
       "      <td>10000</td>\n",
       "      <td>150.000</td>\n",
       "      <td>2.174</td>\n",
       "      <td>69,00</td>\n",
       "      <td>2</td>\n",
       "    </tr>\n",
       "    <tr>\n",
       "      <th>1126</th>\n",
       "      <td>Centar</td>\n",
       "      <td>10000</td>\n",
       "      <td>107.000</td>\n",
       "      <td>2.675</td>\n",
       "      <td>40,00</td>\n",
       "      <td>1</td>\n",
       "    </tr>\n",
       "    <tr>\n",
       "      <th>1509</th>\n",
       "      <td>Trešnjevka</td>\n",
       "      <td>10110</td>\n",
       "      <td>171.390</td>\n",
       "      <td>2.597</td>\n",
       "      <td>66,00</td>\n",
       "      <td>2</td>\n",
       "    </tr>\n",
       "    <tr>\n",
       "      <th>2092</th>\n",
       "      <td>Trešnjevka</td>\n",
       "      <td>10110</td>\n",
       "      <td>178.000</td>\n",
       "      <td>2.145</td>\n",
       "      <td>83,00</td>\n",
       "      <td>3</td>\n",
       "    </tr>\n",
       "    <tr>\n",
       "      <th>688</th>\n",
       "      <td>DonjiGrad</td>\n",
       "      <td>10000</td>\n",
       "      <td>175.000</td>\n",
       "      <td>3.241</td>\n",
       "      <td>54,00</td>\n",
       "      <td>3</td>\n",
       "    </tr>\n",
       "    <tr>\n",
       "      <th>2620</th>\n",
       "      <td>Šestine</td>\n",
       "      <td>10000</td>\n",
       "      <td>681.723</td>\n",
       "      <td>2.100</td>\n",
       "      <td>324,6</td>\n",
       "      <td>6</td>\n",
       "    </tr>\n",
       "    <tr>\n",
       "      <th>374</th>\n",
       "      <td>Kajzerica</td>\n",
       "      <td>10020</td>\n",
       "      <td>126.500</td>\n",
       "      <td>2.530</td>\n",
       "      <td>50,00</td>\n",
       "      <td>3</td>\n",
       "    </tr>\n",
       "    <tr>\n",
       "      <th>1519</th>\n",
       "      <td>Mikulići</td>\n",
       "      <td>10000</td>\n",
       "      <td>212.930</td>\n",
       "      <td>1.990</td>\n",
       "      <td>107,0</td>\n",
       "      <td>4</td>\n",
       "    </tr>\n",
       "    <tr>\n",
       "      <th>2627</th>\n",
       "      <td>DonjiGrad</td>\n",
       "      <td>10000</td>\n",
       "      <td>400.000</td>\n",
       "      <td>3.077</td>\n",
       "      <td>130,0</td>\n",
       "      <td>4</td>\n",
       "    </tr>\n",
       "    <tr>\n",
       "      <th>558</th>\n",
       "      <td>Šestine</td>\n",
       "      <td>10000</td>\n",
       "      <td>273.000</td>\n",
       "      <td>2.022</td>\n",
       "      <td>135,0</td>\n",
       "      <td>4</td>\n",
       "    </tr>\n",
       "    <tr>\n",
       "      <th>2123</th>\n",
       "      <td>Maksimir</td>\n",
       "      <td>10000</td>\n",
       "      <td>289.000</td>\n",
       "      <td>1.690</td>\n",
       "      <td>171,0</td>\n",
       "      <td>4</td>\n",
       "    </tr>\n",
       "    <tr>\n",
       "      <th>11</th>\n",
       "      <td>Sesvete</td>\n",
       "      <td>10360</td>\n",
       "      <td>116.106</td>\n",
       "      <td>1.873</td>\n",
       "      <td>62,00</td>\n",
       "      <td>2</td>\n",
       "    </tr>\n",
       "    <tr>\n",
       "      <th>2773</th>\n",
       "      <td>DonjiGrad</td>\n",
       "      <td>10000</td>\n",
       "      <td>905.767</td>\n",
       "      <td>5.523</td>\n",
       "      <td>164,0</td>\n",
       "      <td>2</td>\n",
       "    </tr>\n",
       "    <tr>\n",
       "      <th>2275</th>\n",
       "      <td>Vrapče</td>\n",
       "      <td>10090</td>\n",
       "      <td>214.000</td>\n",
       "      <td>1.597</td>\n",
       "      <td>134,0</td>\n",
       "      <td>4</td>\n",
       "    </tr>\n",
       "    <tr>\n",
       "      <th>2310</th>\n",
       "      <td>Centar</td>\n",
       "      <td>10000</td>\n",
       "      <td>60.000</td>\n",
       "      <td>2.386</td>\n",
       "      <td>25,15</td>\n",
       "      <td>1</td>\n",
       "    </tr>\n",
       "    <tr>\n",
       "      <th>1920</th>\n",
       "      <td>Maksimir</td>\n",
       "      <td>10000</td>\n",
       "      <td>205.000</td>\n",
       "      <td>2.113</td>\n",
       "      <td>97,00</td>\n",
       "      <td>4</td>\n",
       "    </tr>\n",
       "    <tr>\n",
       "      <th>1240</th>\n",
       "      <td>Jarun</td>\n",
       "      <td>10000</td>\n",
       "      <td>200.475</td>\n",
       "      <td>2.784</td>\n",
       "      <td>72,00</td>\n",
       "      <td>3</td>\n",
       "    </tr>\n",
       "    <tr>\n",
       "      <th>367</th>\n",
       "      <td>Kajzerica</td>\n",
       "      <td>10020</td>\n",
       "      <td>74.550</td>\n",
       "      <td>2.571</td>\n",
       "      <td>29,00</td>\n",
       "      <td>2</td>\n",
       "    </tr>\n",
       "    <tr>\n",
       "      <th>871</th>\n",
       "      <td>DonjiGrad</td>\n",
       "      <td>10000</td>\n",
       "      <td>460.000</td>\n",
       "      <td>4.228</td>\n",
       "      <td>108,8</td>\n",
       "      <td>3</td>\n",
       "    </tr>\n",
       "    <tr>\n",
       "      <th>1536</th>\n",
       "      <td>Maksimir</td>\n",
       "      <td>10000</td>\n",
       "      <td>270.000</td>\n",
       "      <td>2.700</td>\n",
       "      <td>100,0</td>\n",
       "      <td>2</td>\n",
       "    </tr>\n",
       "  </tbody>\n",
       "</table>\n",
       "</div>"
      ],
      "text/plain": [
       "        Location Post_number    Price Price_per_sqft Living_area Rooms\n",
       "451       Centar       10000  150.000          2.174       69,00     2\n",
       "1126      Centar       10000  107.000          2.675       40,00     1\n",
       "1509  Trešnjevka       10110  171.390          2.597       66,00     2\n",
       "2092  Trešnjevka       10110  178.000          2.145       83,00     3\n",
       "688    DonjiGrad       10000  175.000          3.241       54,00     3\n",
       "2620     Šestine       10000  681.723          2.100       324,6     6\n",
       "374    Kajzerica       10020  126.500          2.530       50,00     3\n",
       "1519    Mikulići       10000  212.930          1.990       107,0     4\n",
       "2627   DonjiGrad       10000  400.000          3.077       130,0     4\n",
       "558      Šestine       10000  273.000          2.022       135,0     4\n",
       "2123    Maksimir       10000  289.000          1.690       171,0     4\n",
       "11       Sesvete       10360  116.106          1.873       62,00     2\n",
       "2773   DonjiGrad       10000  905.767          5.523       164,0     2\n",
       "2275      Vrapče       10090  214.000          1.597       134,0     4\n",
       "2310      Centar       10000   60.000          2.386       25,15     1\n",
       "1920    Maksimir       10000  205.000          2.113       97,00     4\n",
       "1240       Jarun       10000  200.475          2.784       72,00     3\n",
       "367    Kajzerica       10020   74.550          2.571       29,00     2\n",
       "871    DonjiGrad       10000  460.000          4.228       108,8     3\n",
       "1536    Maksimir       10000  270.000          2.700       100,0     2"
      ]
     },
     "execution_count": 229,
     "metadata": {},
     "output_type": "execute_result"
    }
   ],
   "source": [
    "df.sample(20)"
   ]
  },
  {
   "cell_type": "code",
   "execution_count": 230,
   "metadata": {},
   "outputs": [],
   "source": [
    "#saving to csv file\n",
    "df.to_csv(\"Zagreb_housing_price\")"
   ]
  },
  {
   "cell_type": "code",
   "execution_count": 2,
   "metadata": {
    "scrolled": false
   },
   "outputs": [
    {
     "data": {
      "text/html": [
       "<div>\n",
       "<style scoped>\n",
       "    .dataframe tbody tr th:only-of-type {\n",
       "        vertical-align: middle;\n",
       "    }\n",
       "\n",
       "    .dataframe tbody tr th {\n",
       "        vertical-align: top;\n",
       "    }\n",
       "\n",
       "    .dataframe thead th {\n",
       "        text-align: right;\n",
       "    }\n",
       "</style>\n",
       "<table border=\"1\" class=\"dataframe\">\n",
       "  <thead>\n",
       "    <tr style=\"text-align: right;\">\n",
       "      <th></th>\n",
       "      <th>Unnamed: 0</th>\n",
       "      <th>Location</th>\n",
       "      <th>Post_number</th>\n",
       "      <th>Price</th>\n",
       "      <th>Price_per_sqft</th>\n",
       "      <th>Living_area</th>\n",
       "      <th>Rooms</th>\n",
       "    </tr>\n",
       "  </thead>\n",
       "  <tbody>\n",
       "    <tr>\n",
       "      <th>727</th>\n",
       "      <td>727</td>\n",
       "      <td>Kvatrić</td>\n",
       "      <td>10000</td>\n",
       "      <td>492.000</td>\n",
       "      <td>3.000</td>\n",
       "      <td>164,0</td>\n",
       "      <td>4</td>\n",
       "    </tr>\n",
       "    <tr>\n",
       "      <th>89</th>\n",
       "      <td>89</td>\n",
       "      <td>Botinec</td>\n",
       "      <td>10020</td>\n",
       "      <td>61.000</td>\n",
       "      <td>1.326</td>\n",
       "      <td>46,00</td>\n",
       "      <td>2</td>\n",
       "    </tr>\n",
       "    <tr>\n",
       "      <th>547</th>\n",
       "      <td>547</td>\n",
       "      <td>Centar</td>\n",
       "      <td>10000</td>\n",
       "      <td>320.000</td>\n",
       "      <td>2.388</td>\n",
       "      <td>134,0</td>\n",
       "      <td>5</td>\n",
       "    </tr>\n",
       "    <tr>\n",
       "      <th>1901</th>\n",
       "      <td>1901</td>\n",
       "      <td>Centar</td>\n",
       "      <td>10000</td>\n",
       "      <td>596.750</td>\n",
       "      <td>5.525</td>\n",
       "      <td>108,0</td>\n",
       "      <td>4</td>\n",
       "    </tr>\n",
       "    <tr>\n",
       "      <th>628</th>\n",
       "      <td>628</td>\n",
       "      <td>Kruge</td>\n",
       "      <td>10020</td>\n",
       "      <td>167.500</td>\n",
       "      <td>2.094</td>\n",
       "      <td>80,00</td>\n",
       "      <td>3</td>\n",
       "    </tr>\n",
       "    <tr>\n",
       "      <th>1606</th>\n",
       "      <td>1606</td>\n",
       "      <td>Centar</td>\n",
       "      <td>10000</td>\n",
       "      <td>696.000</td>\n",
       "      <td>5.007</td>\n",
       "      <td>139,0</td>\n",
       "      <td>5</td>\n",
       "    </tr>\n",
       "    <tr>\n",
       "      <th>2433</th>\n",
       "      <td>2433</td>\n",
       "      <td>Jarun</td>\n",
       "      <td>10000</td>\n",
       "      <td>66.000</td>\n",
       "      <td>2.000</td>\n",
       "      <td>33,00</td>\n",
       "      <td>2</td>\n",
       "    </tr>\n",
       "    <tr>\n",
       "      <th>2763</th>\n",
       "      <td>2763</td>\n",
       "      <td>DonjiGrad</td>\n",
       "      <td>10000</td>\n",
       "      <td>185.000</td>\n",
       "      <td>2.643</td>\n",
       "      <td>70,00</td>\n",
       "      <td>3</td>\n",
       "    </tr>\n",
       "    <tr>\n",
       "      <th>1835</th>\n",
       "      <td>1835</td>\n",
       "      <td>Trnje</td>\n",
       "      <td>10020</td>\n",
       "      <td>145.000</td>\n",
       "      <td>2.636</td>\n",
       "      <td>55,00</td>\n",
       "      <td>1</td>\n",
       "    </tr>\n",
       "    <tr>\n",
       "      <th>999</th>\n",
       "      <td>999</td>\n",
       "      <td>Medveščak</td>\n",
       "      <td>10000</td>\n",
       "      <td>115.000</td>\n",
       "      <td>2.323</td>\n",
       "      <td>49,50</td>\n",
       "      <td>1</td>\n",
       "    </tr>\n",
       "    <tr>\n",
       "      <th>2358</th>\n",
       "      <td>2358</td>\n",
       "      <td>Trnsko</td>\n",
       "      <td>10020</td>\n",
       "      <td>79.000</td>\n",
       "      <td>1.612</td>\n",
       "      <td>49,00</td>\n",
       "      <td>2</td>\n",
       "    </tr>\n",
       "    <tr>\n",
       "      <th>737</th>\n",
       "      <td>737</td>\n",
       "      <td>DonjiGrad</td>\n",
       "      <td>10000</td>\n",
       "      <td>95.000</td>\n",
       "      <td>2.855</td>\n",
       "      <td>33,28</td>\n",
       "      <td>2</td>\n",
       "    </tr>\n",
       "    <tr>\n",
       "      <th>1342</th>\n",
       "      <td>1342</td>\n",
       "      <td>DonjiGrad</td>\n",
       "      <td>10000</td>\n",
       "      <td>190.000</td>\n",
       "      <td>1.610</td>\n",
       "      <td>118,0</td>\n",
       "      <td>4</td>\n",
       "    </tr>\n",
       "    <tr>\n",
       "      <th>712</th>\n",
       "      <td>712</td>\n",
       "      <td>Črnomerec</td>\n",
       "      <td>10000</td>\n",
       "      <td>119.000</td>\n",
       "      <td>1.587</td>\n",
       "      <td>75,00</td>\n",
       "      <td>3</td>\n",
       "    </tr>\n",
       "    <tr>\n",
       "      <th>1645</th>\n",
       "      <td>1645</td>\n",
       "      <td>Trnje</td>\n",
       "      <td>10020</td>\n",
       "      <td>272.448</td>\n",
       "      <td>3.200</td>\n",
       "      <td>85,14</td>\n",
       "      <td>3</td>\n",
       "    </tr>\n",
       "    <tr>\n",
       "      <th>2645</th>\n",
       "      <td>2645</td>\n",
       "      <td>DonjiGrad</td>\n",
       "      <td>10000</td>\n",
       "      <td>516.000</td>\n",
       "      <td>3.012</td>\n",
       "      <td>171,3</td>\n",
       "      <td>4</td>\n",
       "    </tr>\n",
       "    <tr>\n",
       "      <th>1567</th>\n",
       "      <td>1567</td>\n",
       "      <td>Trešnjevka</td>\n",
       "      <td>10110</td>\n",
       "      <td>108.000</td>\n",
       "      <td>1.714</td>\n",
       "      <td>63,00</td>\n",
       "      <td>3</td>\n",
       "    </tr>\n",
       "    <tr>\n",
       "      <th>814</th>\n",
       "      <td>814</td>\n",
       "      <td>Kustošija</td>\n",
       "      <td>10000</td>\n",
       "      <td>83.000</td>\n",
       "      <td>1.976</td>\n",
       "      <td>42,00</td>\n",
       "      <td>2</td>\n",
       "    </tr>\n",
       "    <tr>\n",
       "      <th>505</th>\n",
       "      <td>505</td>\n",
       "      <td>Dubrava</td>\n",
       "      <td>10040</td>\n",
       "      <td>145.001</td>\n",
       "      <td>960\\n</td>\n",
       "      <td>151,0</td>\n",
       "      <td>4</td>\n",
       "    </tr>\n",
       "    <tr>\n",
       "      <th>2603</th>\n",
       "      <td>2603</td>\n",
       "      <td>Centar</td>\n",
       "      <td>10000</td>\n",
       "      <td>697.000</td>\n",
       "      <td>5.000</td>\n",
       "      <td>139,4</td>\n",
       "      <td>5</td>\n",
       "    </tr>\n",
       "  </tbody>\n",
       "</table>\n",
       "</div>"
      ],
      "text/plain": [
       "      Unnamed: 0    Location  Post_number    Price Price_per_sqft Living_area  \\\n",
       "727          727     Kvatrić        10000  492.000          3.000       164,0   \n",
       "89            89     Botinec        10020   61.000          1.326       46,00   \n",
       "547          547      Centar        10000  320.000          2.388       134,0   \n",
       "1901        1901      Centar        10000  596.750          5.525       108,0   \n",
       "628          628       Kruge        10020  167.500          2.094       80,00   \n",
       "1606        1606      Centar        10000  696.000          5.007       139,0   \n",
       "2433        2433       Jarun        10000   66.000          2.000       33,00   \n",
       "2763        2763   DonjiGrad        10000  185.000          2.643       70,00   \n",
       "1835        1835       Trnje        10020  145.000          2.636       55,00   \n",
       "999          999   Medveščak        10000  115.000          2.323       49,50   \n",
       "2358        2358      Trnsko        10020   79.000          1.612       49,00   \n",
       "737          737   DonjiGrad        10000   95.000          2.855       33,28   \n",
       "1342        1342   DonjiGrad        10000  190.000          1.610       118,0   \n",
       "712          712   Črnomerec        10000  119.000          1.587       75,00   \n",
       "1645        1645       Trnje        10020  272.448          3.200       85,14   \n",
       "2645        2645   DonjiGrad        10000  516.000          3.012       171,3   \n",
       "1567        1567  Trešnjevka        10110  108.000          1.714       63,00   \n",
       "814          814   Kustošija        10000   83.000          1.976       42,00   \n",
       "505          505     Dubrava        10040  145.001         960\\n        151,0   \n",
       "2603        2603      Centar        10000  697.000          5.000       139,4   \n",
       "\n",
       "     Rooms  \n",
       "727      4  \n",
       "89       2  \n",
       "547      5  \n",
       "1901     4  \n",
       "628      3  \n",
       "1606     5  \n",
       "2433     2  \n",
       "2763     3  \n",
       "1835     1  \n",
       "999      1  \n",
       "2358     2  \n",
       "737      2  \n",
       "1342     4  \n",
       "712      3  \n",
       "1645     3  \n",
       "2645     4  \n",
       "1567     3  \n",
       "814      2  \n",
       "505      4  \n",
       "2603     5  "
      ]
     },
     "execution_count": 2,
     "metadata": {},
     "output_type": "execute_result"
    }
   ],
   "source": [
    "df2=pd.read_csv(\"Zagreb_housing_price\")\n",
    "df2.sample(20)"
   ]
  },
  {
   "cell_type": "markdown",
   "metadata": {},
   "source": [
    "## Exploring data"
   ]
  },
  {
   "cell_type": "code",
   "execution_count": 3,
   "metadata": {},
   "outputs": [
    {
     "name": "stdout",
     "output_type": "stream",
     "text": [
      "<class 'pandas.core.frame.DataFrame'>\n",
      "RangeIndex: 3220 entries, 0 to 3219\n",
      "Data columns (total 7 columns):\n",
      " #   Column          Non-Null Count  Dtype \n",
      "---  ------          --------------  ----- \n",
      " 0   Unnamed: 0      3220 non-null   int64 \n",
      " 1   Location        3220 non-null   object\n",
      " 2   Post_number     3220 non-null   int64 \n",
      " 3   Price           3220 non-null   object\n",
      " 4   Price_per_sqft  3220 non-null   object\n",
      " 5   Living_area     3220 non-null   object\n",
      " 6   Rooms           3220 non-null   object\n",
      "dtypes: int64(2), object(5)\n",
      "memory usage: 176.2+ KB\n"
     ]
    }
   ],
   "source": [
    "df2.info()"
   ]
  },
  {
   "cell_type": "code",
   "execution_count": 4,
   "metadata": {},
   "outputs": [
    {
     "data": {
      "text/plain": [
       "Unnamed: 0        3220\n",
       "Location            82\n",
       "Post_number         12\n",
       "Price             1084\n",
       "Price_per_sqft    1490\n",
       "Living_area        814\n",
       "Rooms               15\n",
       "dtype: int64"
      ]
     },
     "execution_count": 4,
     "metadata": {},
     "output_type": "execute_result"
    }
   ],
   "source": [
    "df2.nunique()"
   ]
  },
  {
   "cell_type": "code",
   "execution_count": 5,
   "metadata": {},
   "outputs": [
    {
     "data": {
      "text/plain": [
       "array(['Sesvete', 'Kustošija', 'Maksimir', 'Vrbik', 'Bukovac',\n",
       "       'DonjiGrad', 'Pantovčak', 'Špansko', 'Dubrava', 'Gračani',\n",
       "       'Brestje', 'Kajzerica', 'Črnomerec', 'Trnje', 'Šestine',\n",
       "       'Trešnjevka', 'Travno', 'Klara', 'Zagreb', 'Voltino', 'Sigečica',\n",
       "       'Kvatrić', 'Markuševec', 'Centar', 'Remete', 'Ravnice', 'Vrapče',\n",
       "       'Jarun', 'Gajnice', 'Trnsko', 'Botinec', 'Borongaj', 'Vrbani',\n",
       "       'Siget', 'Šalata', 'Malešnica', 'Srednjaci', 'Trokut', 'Volovčica',\n",
       "       'Knežija', 'Mikulići', 'Rudeš', 'Sloboština', 'Dugave', 'Svetice',\n",
       "       'Savica', 'Žitnjak', 'Medveščak', 'Cvjetnonaselje', 'Utrina',\n",
       "       'Borovje', 'GornjiGrad', 'Stenjevec', 'Prečko', 'Tuškanac',\n",
       "       'Folnegovićevonaselje', 'Mlinovi', 'Središće', 'Savskigaj',\n",
       "       'Lanište', 'Poljanice', 'Ksaver', 'Podsused', 'Dubec', 'Kruge',\n",
       "       'Jankomir', 'Zapruđe', 'Remetinec', 'Sopot', 'Klaka', 'Susedgrad',\n",
       "       'Ferenščica', 'Pešćenica', 'Laščina', 'Lukšići', 'Vukomerec',\n",
       "       'Ljubljanica', 'Buzin', 'Retkovec', 'Čučerje', 'Trnava', 'Dedići'],\n",
       "      dtype=object)"
      ]
     },
     "execution_count": 5,
     "metadata": {},
     "output_type": "execute_result"
    }
   ],
   "source": [
    "#locations\n",
    "df2[\"Location\"].unique()"
   ]
  },
  {
   "cell_type": "code",
   "execution_count": 76,
   "metadata": {},
   "outputs": [],
   "source": [
    "df2[\"Location\"]=df2[\"Location\"].replace({\n",
    "    \"DonjiGrad\":\"Donji Grad\",\n",
    "    \"Folnegovićevonaselje\":\" Folnegovićevo naselje\",\n",
    "    \"Cvjetnonaselje\":\"Cvjetno naselje\",\n",
    "    \"GornjiGrad\":\"Gornji Grad\"\n",
    "})"
   ]
  },
  {
   "cell_type": "markdown",
   "metadata": {},
   "source": [
    "We have string in price column so we will drop that column and convert column with price into float."
   ]
  },
  {
   "cell_type": "code",
   "execution_count": 77,
   "metadata": {
    "scrolled": false
   },
   "outputs": [
    {
     "data": {
      "text/plain": [
       "(3169, 7)"
      ]
     },
     "execution_count": 77,
     "metadata": {},
     "output_type": "execute_result"
    }
   ],
   "source": [
    "df3=df2[(df2[\"Price\"]!=\"naupit\")&(df2[\"Rooms\"]!=\"0\")]\n",
    "df3.shape"
   ]
  },
  {
   "cell_type": "markdown",
   "metadata": {},
   "source": [
    "We can se we droped more then 50 apartments."
   ]
  },
  {
   "cell_type": "code",
   "execution_count": 78,
   "metadata": {},
   "outputs": [],
   "source": [
    "df4=df3.copy()"
   ]
  },
  {
   "cell_type": "code",
   "execution_count": 79,
   "metadata": {
    "scrolled": true
   },
   "outputs": [],
   "source": [
    "df4[\"Price\"]=df3[\"Price\"].str.split(\".\").apply(\"\".join)"
   ]
  },
  {
   "cell_type": "code",
   "execution_count": 80,
   "metadata": {},
   "outputs": [],
   "source": [
    "#extracting only numeric values \n",
    "df4[\"Living_area\"]=df3[\"Living_area\"].str.extract(\"(\\d*\\.?\\d+)\", expand=True)"
   ]
  },
  {
   "cell_type": "code",
   "execution_count": 81,
   "metadata": {},
   "outputs": [],
   "source": [
    "df4[\"Rooms\"]=df4[\"Rooms\"].str.extract(\"(\\d*\\.?\\d+)\", expand=True)"
   ]
  },
  {
   "cell_type": "code",
   "execution_count": 82,
   "metadata": {},
   "outputs": [],
   "source": [
    "#converting into float\n",
    "df4[\"Price_per_sqft\"]=df4[\"Price_per_sqft\"].str.split(\".\").apply(\"\".join)"
   ]
  },
  {
   "cell_type": "code",
   "execution_count": 83,
   "metadata": {},
   "outputs": [
    {
     "data": {
      "text/html": [
       "<div>\n",
       "<style scoped>\n",
       "    .dataframe tbody tr th:only-of-type {\n",
       "        vertical-align: middle;\n",
       "    }\n",
       "\n",
       "    .dataframe tbody tr th {\n",
       "        vertical-align: top;\n",
       "    }\n",
       "\n",
       "    .dataframe thead th {\n",
       "        text-align: right;\n",
       "    }\n",
       "</style>\n",
       "<table border=\"1\" class=\"dataframe\">\n",
       "  <thead>\n",
       "    <tr style=\"text-align: right;\">\n",
       "      <th></th>\n",
       "      <th>Unnamed: 0</th>\n",
       "      <th>Location</th>\n",
       "      <th>Post_number</th>\n",
       "      <th>Price</th>\n",
       "      <th>Price_per_sqft</th>\n",
       "      <th>Living_area</th>\n",
       "      <th>Rooms</th>\n",
       "    </tr>\n",
       "  </thead>\n",
       "  <tbody>\n",
       "    <tr>\n",
       "      <th>0</th>\n",
       "      <td>0</td>\n",
       "      <td>Sesvete</td>\n",
       "      <td>10360</td>\n",
       "      <td>120000</td>\n",
       "      <td>1071</td>\n",
       "      <td>112</td>\n",
       "      <td>5</td>\n",
       "    </tr>\n",
       "    <tr>\n",
       "      <th>1</th>\n",
       "      <td>1</td>\n",
       "      <td>Kustošija</td>\n",
       "      <td>10000</td>\n",
       "      <td>210000</td>\n",
       "      <td>1329</td>\n",
       "      <td>158</td>\n",
       "      <td>4</td>\n",
       "    </tr>\n",
       "    <tr>\n",
       "      <th>2</th>\n",
       "      <td>2</td>\n",
       "      <td>Maksimir</td>\n",
       "      <td>10000</td>\n",
       "      <td>460000</td>\n",
       "      <td>2556</td>\n",
       "      <td>180</td>\n",
       "      <td>4</td>\n",
       "    </tr>\n",
       "    <tr>\n",
       "      <th>3</th>\n",
       "      <td>3</td>\n",
       "      <td>Maksimir</td>\n",
       "      <td>10000</td>\n",
       "      <td>495000</td>\n",
       "      <td>2552</td>\n",
       "      <td>194</td>\n",
       "      <td>4</td>\n",
       "    </tr>\n",
       "    <tr>\n",
       "      <th>4</th>\n",
       "      <td>4</td>\n",
       "      <td>Vrbik</td>\n",
       "      <td>10000</td>\n",
       "      <td>149500</td>\n",
       "      <td>2136</td>\n",
       "      <td>70</td>\n",
       "      <td>3</td>\n",
       "    </tr>\n",
       "  </tbody>\n",
       "</table>\n",
       "</div>"
      ],
      "text/plain": [
       "   Unnamed: 0   Location  Post_number   Price Price_per_sqft Living_area Rooms\n",
       "0           0    Sesvete        10360  120000           1071         112     5\n",
       "1           1  Kustošija        10000  210000           1329         158     4\n",
       "2           2   Maksimir        10000  460000           2556         180     4\n",
       "3           3   Maksimir        10000  495000           2552         194     4\n",
       "4           4      Vrbik        10000  149500           2136          70     3"
      ]
     },
     "execution_count": 83,
     "metadata": {},
     "output_type": "execute_result"
    }
   ],
   "source": [
    "df4.head()"
   ]
  },
  {
   "cell_type": "code",
   "execution_count": 84,
   "metadata": {},
   "outputs": [],
   "source": [
    "#converting into int\n",
    "df4[\"Price\"]=df4[\"Price\"].astype(int)"
   ]
  },
  {
   "cell_type": "code",
   "execution_count": 85,
   "metadata": {},
   "outputs": [],
   "source": [
    "df4[\"Living_area\"]=df4[\"Living_area\"].astype(int)"
   ]
  },
  {
   "cell_type": "code",
   "execution_count": 86,
   "metadata": {},
   "outputs": [],
   "source": [
    "df4[\"Price_per_sqft\"]=df4[\"Price_per_sqft\"].astype(int)"
   ]
  },
  {
   "cell_type": "code",
   "execution_count": 87,
   "metadata": {},
   "outputs": [],
   "source": [
    "#converting into float\n",
    "df4[\"Rooms\"]=df4[\"Rooms\"].astype(float)"
   ]
  },
  {
   "cell_type": "code",
   "execution_count": 88,
   "metadata": {},
   "outputs": [
    {
     "name": "stdout",
     "output_type": "stream",
     "text": [
      "<class 'pandas.core.frame.DataFrame'>\n",
      "Int64Index: 3169 entries, 0 to 3219\n",
      "Data columns (total 7 columns):\n",
      " #   Column          Non-Null Count  Dtype  \n",
      "---  ------          --------------  -----  \n",
      " 0   Unnamed: 0      3169 non-null   int64  \n",
      " 1   Location        3169 non-null   object \n",
      " 2   Post_number     3169 non-null   int64  \n",
      " 3   Price           3169 non-null   int64  \n",
      " 4   Price_per_sqft  3169 non-null   int64  \n",
      " 5   Living_area     3169 non-null   int64  \n",
      " 6   Rooms           3169 non-null   float64\n",
      "dtypes: float64(1), int64(5), object(1)\n",
      "memory usage: 198.1+ KB\n"
     ]
    }
   ],
   "source": [
    "df4.info()"
   ]
  },
  {
   "cell_type": "code",
   "execution_count": 89,
   "metadata": {},
   "outputs": [],
   "source": [
    "#Droping column\n",
    "df4=df4.drop([\"Unnamed: 0\"],axis=1)"
   ]
  },
  {
   "cell_type": "code",
   "execution_count": 90,
   "metadata": {},
   "outputs": [
    {
     "data": {
      "text/plain": [
       "(3169, 6)"
      ]
     },
     "execution_count": 90,
     "metadata": {},
     "output_type": "execute_result"
    }
   ],
   "source": [
    "df4.shape"
   ]
  },
  {
   "cell_type": "markdown",
   "metadata": {},
   "source": [
    "## Analyzing aprtments in Zagreb"
   ]
  },
  {
   "cell_type": "code",
   "execution_count": 91,
   "metadata": {},
   "outputs": [],
   "source": [
    "import seaborn as sns\n",
    "from matplotlib import cm\n",
    "import numpy as np\n",
    "import matplotlib.pyplot as plt\n",
    "%matplotlib inline"
   ]
  },
  {
   "cell_type": "markdown",
   "metadata": {},
   "source": [
    "### Top five most expensive location in Zagreb by average sqft price"
   ]
  },
  {
   "cell_type": "code",
   "execution_count": 92,
   "metadata": {},
   "outputs": [
    {
     "data": {
      "text/plain": [
       "Location\n",
       "Središće       3147.000000\n",
       "Tuškanac       3025.235294\n",
       "Centar         3010.266949\n",
       "Gornji Grad    2943.761905\n",
       "Medveščak      2808.037736\n",
       "Name: Price_per_sqft, dtype: float64"
      ]
     },
     "execution_count": 92,
     "metadata": {},
     "output_type": "execute_result"
    }
   ],
   "source": [
    "#avaerage sqft price by location\n",
    "df4.groupby(\"Location\")[\"Price_per_sqft\"].mean().sort_values(ascending=False)[:5]"
   ]
  },
  {
   "cell_type": "code",
   "execution_count": 93,
   "metadata": {},
   "outputs": [
    {
     "data": {
      "text/plain": [
       "<AxesSubplot:xlabel='Location'>"
      ]
     },
     "execution_count": 93,
     "metadata": {},
     "output_type": "execute_result"
    },
    {
     "data": {
      "image/png": "[encoded data removed]",
      "text/plain": [
       "<Figure size 864x576 with 1 Axes>"
      ]
     },
     "metadata": {
      "needs_background": "light"
     },
     "output_type": "display_data"
    }
   ],
   "source": [
    "# Average sqft price  by location in Zagreb\n",
    "location=df4.groupby(\"Location\")[\"Price_per_sqft\"].mean().reset_index(\"Location\")\n",
    "color = cm.inferno_r(np.linspace(.4, .8, 30))\n",
    "location=location.sort_values(\"Price_per_sqft\" , ascending=[False])[:5]\n",
    "location.plot.bar(x=\"Location\", y='Price_per_sqft', color=color , figsize=(12,8))"
   ]
  },
  {
   "cell_type": "markdown",
   "metadata": {},
   "source": [
    "From above we can see that Središće and Tuškanac   are the most expensive locations by price per sqft."
   ]
  },
  {
   "cell_type": "markdown",
   "metadata": {},
   "source": [
    "### Top five  cheapest location in Zagreb by average sqft price"
   ]
  },
  {
   "cell_type": "code",
   "execution_count": 94,
   "metadata": {},
   "outputs": [
    {
     "data": {
      "text/plain": [
       "Location\n",
       "Čučerje     795.000000\n",
       "Žitnjak    1246.000000\n",
       "Borovje    1323.250000\n",
       "Brestje    1332.857143\n",
       "Botinec    1366.500000\n",
       "Name: Price_per_sqft, dtype: float64"
      ]
     },
     "execution_count": 94,
     "metadata": {},
     "output_type": "execute_result"
    }
   ],
   "source": [
    "#avaerage sqft price by location\n",
    "df4.groupby(\"Location\")[\"Price_per_sqft\"].mean().sort_values(ascending=True)[:5]"
   ]
  },
  {
   "cell_type": "code",
   "execution_count": 95,
   "metadata": {},
   "outputs": [
    {
     "data": {
      "text/plain": [
       "<AxesSubplot:xlabel='Location'>"
      ]
     },
     "execution_count": 95,
     "metadata": {},
     "output_type": "execute_result"
    },
    {
     "data": {
      "image/png": "[encoded data removed]",
      "text/plain": [
       "<Figure size 864x576 with 1 Axes>"
      ]
     },
     "metadata": {
      "needs_background": "light"
     },
     "output_type": "display_data"
    }
   ],
   "source": [
    "# Average sqft price  by location in Zagreb\n",
    "location=df4.groupby(\"Location\")[\"Price_per_sqft\"].mean().reset_index(\"Location\")\n",
    "color = cm.viridis(np.linspace(.4, .8, 30))\n",
    "location=location.sort_values(\"Price_per_sqft\" , ascending=[True])[:5]\n",
    "location.plot.bar(x=\"Location\", y='Price_per_sqft', color=color , figsize=(12,8))"
   ]
  },
  {
   "cell_type": "markdown",
   "metadata": {},
   "source": [
    "We can see that Čučerje is the cheapest location in Zagreb to buy apartment."
   ]
  },
  {
   "cell_type": "markdown",
   "metadata": {},
   "source": [
    "### Apartment with most living area by location"
   ]
  },
  {
   "cell_type": "code",
   "execution_count": 96,
   "metadata": {},
   "outputs": [
    {
     "data": {
      "text/plain": [
       "Location\n",
       " Folnegovićevo naselje     65\n",
       "Borongaj                   53\n",
       "Borovje                   120\n",
       "Botinec                   139\n",
       "Brestje                   175\n",
       "Bukovac                   270\n",
       "Buzin                      68\n",
       "Centar                    441\n",
       "Cvjetno naselje            77\n",
       "Dedići                    185\n",
       "Name: Living_area, dtype: int64"
      ]
     },
     "execution_count": 96,
     "metadata": {},
     "output_type": "execute_result"
    }
   ],
   "source": [
    "df4.groupby(\"Location\")[\"Living_area\"].max()[:10]"
   ]
  },
  {
   "cell_type": "code",
   "execution_count": 97,
   "metadata": {},
   "outputs": [
    {
     "data": {
      "text/plain": [
       "Text(0, 0.5, 'm2')"
      ]
     },
     "execution_count": 97,
     "metadata": {},
     "output_type": "execute_result"
    },
    {
     "data": {
      "image/png": "[encoded data removed]",
      "text/plain": [
       "<Figure size 576x288 with 1 Axes>"
      ]
     },
     "metadata": {
      "needs_background": "light"
     },
     "output_type": "display_data"
    }
   ],
   "source": [
    "plt.figure(figsize=(8,4))\n",
    "df4.groupby(\"Location\")[\"Living_area\"].max()[:10].plot.bar()\n",
    "plt.ylabel(\"m2\")"
   ]
  },
  {
   "cell_type": "markdown",
   "metadata": {},
   "source": [
    "The biggest apartment is located in Centar and has 441 m2."
   ]
  },
  {
   "cell_type": "code",
   "execution_count": 98,
   "metadata": {
    "scrolled": true
   },
   "outputs": [
    {
     "data": {
      "text/plain": [
       "Donji Grad     615\n",
       "Trešnjevka     251\n",
       "Centar         236\n",
       "Črnomerec      225\n",
       "Maksimir       181\n",
       "              ... \n",
       "Čučerje          1\n",
       "Klaka            1\n",
       "Ljubljanica      1\n",
       "Buzin            1\n",
       "Vukomerec        1\n",
       "Name: Location, Length: 82, dtype: int64"
      ]
     },
     "execution_count": 98,
     "metadata": {},
     "output_type": "execute_result"
    }
   ],
   "source": [
    "#counting location\n",
    "df4[\"Location\"].value_counts()"
   ]
  },
  {
   "cell_type": "markdown",
   "metadata": {},
   "source": [
    "We can see that we have a lot of rows with only 1 unique values of location. Because of that we will make function that will put all values that are less then 10 in \"other\" category."
   ]
  },
  {
   "cell_type": "code",
   "execution_count": 99,
   "metadata": {},
   "outputs": [],
   "source": [
    "#counting values in location\n",
    "location_stat=df4[\"Location\"].value_counts()"
   ]
  },
  {
   "cell_type": "code",
   "execution_count": 100,
   "metadata": {},
   "outputs": [
    {
     "data": {
      "text/plain": [
       "33"
      ]
     },
     "execution_count": 100,
     "metadata": {},
     "output_type": "execute_result"
    }
   ],
   "source": [
    "location_less_10=location_stat[location_stat<10]\n",
    "len(location_less_10)"
   ]
  },
  {
   "cell_type": "code",
   "execution_count": 101,
   "metadata": {},
   "outputs": [],
   "source": [
    "#\n",
    "df4[\"Location\"]=df4[\"Location\"].apply(lambda x: \"other\" if x in location_less_10 else x)"
   ]
  },
  {
   "cell_type": "code",
   "execution_count": 102,
   "metadata": {},
   "outputs": [
    {
     "data": {
      "text/plain": [
       "50"
      ]
     },
     "execution_count": 102,
     "metadata": {},
     "output_type": "execute_result"
    }
   ],
   "source": [
    "len(df4[\"Location\"].unique())"
   ]
  },
  {
   "cell_type": "markdown",
   "metadata": {},
   "source": [
    "## Outliers"
   ]
  },
  {
   "cell_type": "code",
   "execution_count": 103,
   "metadata": {},
   "outputs": [
    {
     "data": {
      "text/plain": [
       "(3169, 6)"
      ]
     },
     "execution_count": 103,
     "metadata": {},
     "output_type": "execute_result"
    }
   ],
   "source": [
    "df4.shape"
   ]
  },
  {
   "cell_type": "code",
   "execution_count": 104,
   "metadata": {},
   "outputs": [
    {
     "data": {
      "text/plain": [
       "count    3169.000000\n",
       "mean     2322.985800\n",
       "std       796.383199\n",
       "min         2.000000\n",
       "25%      1857.000000\n",
       "50%      2183.000000\n",
       "75%      2647.000000\n",
       "max      7609.000000\n",
       "Name: Price_per_sqft, dtype: float64"
      ]
     },
     "execution_count": 104,
     "metadata": {},
     "output_type": "execute_result"
    }
   ],
   "source": [
    "df4[\"Price_per_sqft\"].describe()"
   ]
  },
  {
   "cell_type": "code",
   "execution_count": 105,
   "metadata": {},
   "outputs": [
    {
     "data": {
      "text/plain": [
       "(2342, 6)"
      ]
     },
     "execution_count": 105,
     "metadata": {},
     "output_type": "execute_result"
    }
   ],
   "source": [
    "# droping aparmtent which has price per sqft less then mean - std and more then mean + std in certain location\n",
    "def remove_outliers(df):\n",
    "    df_out = pd.DataFrame()\n",
    "    for key, subdf in df.groupby('Location'):\n",
    "        m = np.mean(subdf.Price_per_sqft) #mean\n",
    "        st = np.std(subdf.Price_per_sqft) #standard deviation\n",
    "        reduced_df = subdf[(subdf.Price_per_sqft>(m-st)) & (subdf.Price_per_sqft<=(m+st))]\n",
    "        df_out = pd.concat([df_out,reduced_df],ignore_index=True)\n",
    "    return df_out\n",
    "df5 = remove_outliers(df4)\n",
    "df5.shape"
   ]
  },
  {
   "cell_type": "code",
   "execution_count": 106,
   "metadata": {
    "scrolled": true
   },
   "outputs": [
    {
     "data": {
      "text/plain": [
       "count    2342.000000\n",
       "mean        2.933817\n",
       "std         1.197809\n",
       "min         1.000000\n",
       "25%         2.000000\n",
       "50%         3.000000\n",
       "75%         4.000000\n",
       "max        20.000000\n",
       "Name: Rooms, dtype: float64"
      ]
     },
     "execution_count": 106,
     "metadata": {},
     "output_type": "execute_result"
    }
   ],
   "source": [
    "df5[\"Rooms\"].describe()"
   ]
  },
  {
   "cell_type": "code",
   "execution_count": 107,
   "metadata": {},
   "outputs": [
    {
     "data": {
      "text/html": [
       "<div>\n",
       "<style scoped>\n",
       "    .dataframe tbody tr th:only-of-type {\n",
       "        vertical-align: middle;\n",
       "    }\n",
       "\n",
       "    .dataframe tbody tr th {\n",
       "        vertical-align: top;\n",
       "    }\n",
       "\n",
       "    .dataframe thead th {\n",
       "        text-align: right;\n",
       "    }\n",
       "</style>\n",
       "<table border=\"1\" class=\"dataframe\">\n",
       "  <thead>\n",
       "    <tr style=\"text-align: right;\">\n",
       "      <th></th>\n",
       "      <th>Location</th>\n",
       "      <th>Post_number</th>\n",
       "      <th>Price</th>\n",
       "      <th>Price_per_sqft</th>\n",
       "      <th>Living_area</th>\n",
       "      <th>Rooms</th>\n",
       "    </tr>\n",
       "  </thead>\n",
       "  <tbody>\n",
       "    <tr>\n",
       "      <th>24</th>\n",
       "      <td>Bukovac</td>\n",
       "      <td>10000</td>\n",
       "      <td>330000</td>\n",
       "      <td>2298</td>\n",
       "      <td>143</td>\n",
       "      <td>6.0</td>\n",
       "    </tr>\n",
       "    <tr>\n",
       "      <th>41</th>\n",
       "      <td>Bukovac</td>\n",
       "      <td>10000</td>\n",
       "      <td>330000</td>\n",
       "      <td>1941</td>\n",
       "      <td>170</td>\n",
       "      <td>6.0</td>\n",
       "    </tr>\n",
       "    <tr>\n",
       "      <th>181</th>\n",
       "      <td>Centar</td>\n",
       "      <td>10000</td>\n",
       "      <td>430000</td>\n",
       "      <td>2688</td>\n",
       "      <td>160</td>\n",
       "      <td>6.0</td>\n",
       "    </tr>\n",
       "    <tr>\n",
       "      <th>250</th>\n",
       "      <td>Donji Grad</td>\n",
       "      <td>10000</td>\n",
       "      <td>440000</td>\n",
       "      <td>2126</td>\n",
       "      <td>207</td>\n",
       "      <td>6.0</td>\n",
       "    </tr>\n",
       "    <tr>\n",
       "      <th>254</th>\n",
       "      <td>Donji Grad</td>\n",
       "      <td>10000</td>\n",
       "      <td>1123850</td>\n",
       "      <td>2470</td>\n",
       "      <td>455</td>\n",
       "      <td>8.0</td>\n",
       "    </tr>\n",
       "    <tr>\n",
       "      <th>256</th>\n",
       "      <td>Donji Grad</td>\n",
       "      <td>10000</td>\n",
       "      <td>685000</td>\n",
       "      <td>3100</td>\n",
       "      <td>221</td>\n",
       "      <td>6.0</td>\n",
       "    </tr>\n",
       "    <tr>\n",
       "      <th>259</th>\n",
       "      <td>Donji Grad</td>\n",
       "      <td>10000</td>\n",
       "      <td>415000</td>\n",
       "      <td>1886</td>\n",
       "      <td>220</td>\n",
       "      <td>7.0</td>\n",
       "    </tr>\n",
       "    <tr>\n",
       "      <th>274</th>\n",
       "      <td>Donji Grad</td>\n",
       "      <td>10000</td>\n",
       "      <td>771032</td>\n",
       "      <td>3100</td>\n",
       "      <td>248</td>\n",
       "      <td>8.0</td>\n",
       "    </tr>\n",
       "    <tr>\n",
       "      <th>318</th>\n",
       "      <td>Donji Grad</td>\n",
       "      <td>10000</td>\n",
       "      <td>714000</td>\n",
       "      <td>2006</td>\n",
       "      <td>356</td>\n",
       "      <td>20.0</td>\n",
       "    </tr>\n",
       "    <tr>\n",
       "      <th>339</th>\n",
       "      <td>Donji Grad</td>\n",
       "      <td>10000</td>\n",
       "      <td>335000</td>\n",
       "      <td>1903</td>\n",
       "      <td>176</td>\n",
       "      <td>7.0</td>\n",
       "    </tr>\n",
       "    <tr>\n",
       "      <th>342</th>\n",
       "      <td>Donji Grad</td>\n",
       "      <td>10000</td>\n",
       "      <td>345000</td>\n",
       "      <td>1983</td>\n",
       "      <td>174</td>\n",
       "      <td>6.0</td>\n",
       "    </tr>\n",
       "    <tr>\n",
       "      <th>440</th>\n",
       "      <td>Donji Grad</td>\n",
       "      <td>10000</td>\n",
       "      <td>295000</td>\n",
       "      <td>2157</td>\n",
       "      <td>136</td>\n",
       "      <td>6.0</td>\n",
       "    </tr>\n",
       "    <tr>\n",
       "      <th>512</th>\n",
       "      <td>Donji Grad</td>\n",
       "      <td>10000</td>\n",
       "      <td>335000</td>\n",
       "      <td>1893</td>\n",
       "      <td>177</td>\n",
       "      <td>6.0</td>\n",
       "    </tr>\n",
       "    <tr>\n",
       "      <th>516</th>\n",
       "      <td>Donji Grad</td>\n",
       "      <td>10000</td>\n",
       "      <td>1180000</td>\n",
       "      <td>3105</td>\n",
       "      <td>380</td>\n",
       "      <td>9.0</td>\n",
       "    </tr>\n",
       "    <tr>\n",
       "      <th>518</th>\n",
       "      <td>Donji Grad</td>\n",
       "      <td>10000</td>\n",
       "      <td>460000</td>\n",
       "      <td>2383</td>\n",
       "      <td>193</td>\n",
       "      <td>6.0</td>\n",
       "    </tr>\n",
       "  </tbody>\n",
       "</table>\n",
       "</div>"
      ],
      "text/plain": [
       "       Location  Post_number    Price  Price_per_sqft  Living_area  Rooms\n",
       "24      Bukovac        10000   330000            2298          143    6.0\n",
       "41      Bukovac        10000   330000            1941          170    6.0\n",
       "181      Centar        10000   430000            2688          160    6.0\n",
       "250  Donji Grad        10000   440000            2126          207    6.0\n",
       "254  Donji Grad        10000  1123850            2470          455    8.0\n",
       "256  Donji Grad        10000   685000            3100          221    6.0\n",
       "259  Donji Grad        10000   415000            1886          220    7.0\n",
       "274  Donji Grad        10000   771032            3100          248    8.0\n",
       "318  Donji Grad        10000   714000            2006          356   20.0\n",
       "339  Donji Grad        10000   335000            1903          176    7.0\n",
       "342  Donji Grad        10000   345000            1983          174    6.0\n",
       "440  Donji Grad        10000   295000            2157          136    6.0\n",
       "512  Donji Grad        10000   335000            1893          177    6.0\n",
       "516  Donji Grad        10000  1180000            3105          380    9.0\n",
       "518  Donji Grad        10000   460000            2383          193    6.0"
      ]
     },
     "execution_count": 107,
     "metadata": {},
     "output_type": "execute_result"
    }
   ],
   "source": [
    "df5[df5[\"Rooms\"]>=6][:15]"
   ]
  },
  {
   "cell_type": "markdown",
   "metadata": {},
   "source": [
    "For better model accuracy we are going to drop apartments that have 10 or more rooms and we will assume that typicial threshold for living area per room is 12 m2 so we will use this criteria to find outliers."
   ]
  },
  {
   "cell_type": "code",
   "execution_count": 108,
   "metadata": {
    "scrolled": true
   },
   "outputs": [],
   "source": [
    "df6=df5[df5[\"Rooms\"]<10]"
   ]
  },
  {
   "cell_type": "code",
   "execution_count": 109,
   "metadata": {},
   "outputs": [],
   "source": [
    "df7=df6[df6[\"Living_area\"]/df6[\"Rooms\"]>12]"
   ]
  },
  {
   "cell_type": "code",
   "execution_count": 110,
   "metadata": {
    "scrolled": true
   },
   "outputs": [
    {
     "name": "stderr",
     "output_type": "stream",
     "text": [
      "/home/mattdmv/anaconda3/lib/python3.8/site-packages/seaborn/_decorators.py:36: FutureWarning: Pass the following variables as keyword args: x, y. From version 0.12, the only valid positional argument will be `data`, and passing other arguments without an explicit keyword will result in an error or misinterpretation.\n",
      "  warnings.warn(\n"
     ]
    },
    {
     "data": {
      "image/png": "[encoded data removed]",
      "text/plain": [
       "<Figure size 1224x432 with 1 Axes>"
      ]
     },
     "metadata": {
      "needs_background": "light"
     },
     "output_type": "display_data"
    }
   ],
   "source": [
    "title = 'Rooms by living_area in location'\n",
    "plt.figure(figsize=(17,6))\n",
    "sns.scatterplot(df7.Location,df7.Living_area,hue=df7.Rooms).set_title(title)\n",
    "plt.xticks(rotation=45)\n",
    "plt.ioff()"
   ]
  },
  {
   "cell_type": "markdown",
   "metadata": {},
   "source": [
    "We will now write a function that will remove properties where for same location, the price of (for example) 3 bedroom apartment is less than 2 bedroom apartment (with same square ft area)."
   ]
  },
  {
   "cell_type": "code",
   "execution_count": 111,
   "metadata": {},
   "outputs": [
    {
     "data": {
      "text/plain": [
       "(1442, 6)"
      ]
     },
     "execution_count": 111,
     "metadata": {},
     "output_type": "execute_result"
    }
   ],
   "source": [
    "def remove_outliers(df):\n",
    "    exclude_indices = np.array([])\n",
    "    for location, location_df in df.groupby('Location'): #grouping by location\n",
    "        room_stats = {}\n",
    "        for b, b_df in location_df.groupby('Rooms'): # grouping by bedroom in location groupby\n",
    "            room_stats[b] = {                       #dictionary with mean,standard deviation and count\n",
    "                'mean': np.mean(b_df.Price_per_sqft),\n",
    "                'std': np.std(b_df.Price_per_sqft),\n",
    "                'count': b_df.shape[0]\n",
    "            }\n",
    "        for b, b_df in location_df.groupby('Rooms'):\n",
    "            stats = room_stats.get(b-1)\n",
    "            if stats and stats['count']>5:\n",
    "                exclude_indices = np.append(exclude_indices, b_df[b_df.Price_per_sqft<(stats['mean'])].index.values)\n",
    "    return df.drop(exclude_indices,axis='index')\n",
    "\n",
    "df8 = remove_outliers(df7)\n",
    "df8.shape"
   ]
  },
  {
   "cell_type": "markdown",
   "metadata": {},
   "source": [
    "## Preparing data"
   ]
  },
  {
   "cell_type": "code",
   "execution_count": 112,
   "metadata": {},
   "outputs": [
    {
     "data": {
      "text/html": [
       "<div>\n",
       "<style scoped>\n",
       "    .dataframe tbody tr th:only-of-type {\n",
       "        vertical-align: middle;\n",
       "    }\n",
       "\n",
       "    .dataframe tbody tr th {\n",
       "        vertical-align: top;\n",
       "    }\n",
       "\n",
       "    .dataframe thead th {\n",
       "        text-align: right;\n",
       "    }\n",
       "</style>\n",
       "<table border=\"1\" class=\"dataframe\">\n",
       "  <thead>\n",
       "    <tr style=\"text-align: right;\">\n",
       "      <th></th>\n",
       "      <th>Location</th>\n",
       "      <th>Price</th>\n",
       "      <th>Living_area</th>\n",
       "      <th>Rooms</th>\n",
       "    </tr>\n",
       "  </thead>\n",
       "  <tbody>\n",
       "    <tr>\n",
       "      <th>1335</th>\n",
       "      <td>Medveščak</td>\n",
       "      <td>210000</td>\n",
       "      <td>60</td>\n",
       "      <td>1.0</td>\n",
       "    </tr>\n",
       "    <tr>\n",
       "      <th>1489</th>\n",
       "      <td>Savica</td>\n",
       "      <td>120000</td>\n",
       "      <td>62</td>\n",
       "      <td>2.0</td>\n",
       "    </tr>\n",
       "    <tr>\n",
       "      <th>493</th>\n",
       "      <td>Donji Grad</td>\n",
       "      <td>350000</td>\n",
       "      <td>115</td>\n",
       "      <td>2.0</td>\n",
       "    </tr>\n",
       "    <tr>\n",
       "      <th>1110</th>\n",
       "      <td>Maksimir</td>\n",
       "      <td>62000</td>\n",
       "      <td>26</td>\n",
       "      <td>2.0</td>\n",
       "    </tr>\n",
       "    <tr>\n",
       "      <th>2165</th>\n",
       "      <td>Črnomerec</td>\n",
       "      <td>75000</td>\n",
       "      <td>39</td>\n",
       "      <td>1.0</td>\n",
       "    </tr>\n",
       "    <tr>\n",
       "      <th>1036</th>\n",
       "      <td>Knežija</td>\n",
       "      <td>204000</td>\n",
       "      <td>98</td>\n",
       "      <td>3.0</td>\n",
       "    </tr>\n",
       "    <tr>\n",
       "      <th>1076</th>\n",
       "      <td>Kvatrić</td>\n",
       "      <td>123001</td>\n",
       "      <td>58</td>\n",
       "      <td>2.0</td>\n",
       "    </tr>\n",
       "    <tr>\n",
       "      <th>1815</th>\n",
       "      <td>Trešnjevka</td>\n",
       "      <td>119000</td>\n",
       "      <td>53</td>\n",
       "      <td>2.0</td>\n",
       "    </tr>\n",
       "    <tr>\n",
       "      <th>1282</th>\n",
       "      <td>Medveščak</td>\n",
       "      <td>385000</td>\n",
       "      <td>123</td>\n",
       "      <td>4.0</td>\n",
       "    </tr>\n",
       "    <tr>\n",
       "      <th>1483</th>\n",
       "      <td>Rudeš</td>\n",
       "      <td>144375</td>\n",
       "      <td>68</td>\n",
       "      <td>3.0</td>\n",
       "    </tr>\n",
       "  </tbody>\n",
       "</table>\n",
       "</div>"
      ],
      "text/plain": [
       "        Location   Price  Living_area  Rooms\n",
       "1335   Medveščak  210000           60    1.0\n",
       "1489      Savica  120000           62    2.0\n",
       "493   Donji Grad  350000          115    2.0\n",
       "1110    Maksimir   62000           26    2.0\n",
       "2165   Črnomerec   75000           39    1.0\n",
       "1036     Knežija  204000           98    3.0\n",
       "1076     Kvatrić  123001           58    2.0\n",
       "1815  Trešnjevka  119000           53    2.0\n",
       "1282   Medveščak  385000          123    4.0\n",
       "1483       Rudeš  144375           68    3.0"
      ]
     },
     "execution_count": 112,
     "metadata": {},
     "output_type": "execute_result"
    }
   ],
   "source": [
    "df9=df8.drop([\"Post_number\",\"Price_per_sqft\"],axis=1)\n",
    "df9.sample(10)"
   ]
  },
  {
   "cell_type": "markdown",
   "metadata": {},
   "source": [
    "Now we will transfrom categorical column which is location into numerical by using dummy function."
   ]
  },
  {
   "cell_type": "code",
   "execution_count": 113,
   "metadata": {},
   "outputs": [
    {
     "data": {
      "text/html": [
       "<div>\n",
       "<style scoped>\n",
       "    .dataframe tbody tr th:only-of-type {\n",
       "        vertical-align: middle;\n",
       "    }\n",
       "\n",
       "    .dataframe tbody tr th {\n",
       "        vertical-align: top;\n",
       "    }\n",
       "\n",
       "    .dataframe thead th {\n",
       "        text-align: right;\n",
       "    }\n",
       "</style>\n",
       "<table border=\"1\" class=\"dataframe\">\n",
       "  <thead>\n",
       "    <tr style=\"text-align: right;\">\n",
       "      <th></th>\n",
       "      <th>Folnegovićevo naselje</th>\n",
       "      <th>Borongaj</th>\n",
       "      <th>Bukovac</th>\n",
       "      <th>Centar</th>\n",
       "      <th>Donji Grad</th>\n",
       "      <th>Dubrava</th>\n",
       "      <th>Dugave</th>\n",
       "      <th>Gajnice</th>\n",
       "      <th>Gornji Grad</th>\n",
       "      <th>Gračani</th>\n",
       "      <th>...</th>\n",
       "      <th>Vrapče</th>\n",
       "      <th>Vrbani</th>\n",
       "      <th>Vrbik</th>\n",
       "      <th>Zagreb</th>\n",
       "      <th>Zapruđe</th>\n",
       "      <th>other</th>\n",
       "      <th>Črnomerec</th>\n",
       "      <th>Šalata</th>\n",
       "      <th>Šestine</th>\n",
       "      <th>Špansko</th>\n",
       "    </tr>\n",
       "  </thead>\n",
       "  <tbody>\n",
       "    <tr>\n",
       "      <th>0</th>\n",
       "      <td>1</td>\n",
       "      <td>0</td>\n",
       "      <td>0</td>\n",
       "      <td>0</td>\n",
       "      <td>0</td>\n",
       "      <td>0</td>\n",
       "      <td>0</td>\n",
       "      <td>0</td>\n",
       "      <td>0</td>\n",
       "      <td>0</td>\n",
       "      <td>...</td>\n",
       "      <td>0</td>\n",
       "      <td>0</td>\n",
       "      <td>0</td>\n",
       "      <td>0</td>\n",
       "      <td>0</td>\n",
       "      <td>0</td>\n",
       "      <td>0</td>\n",
       "      <td>0</td>\n",
       "      <td>0</td>\n",
       "      <td>0</td>\n",
       "    </tr>\n",
       "    <tr>\n",
       "      <th>1</th>\n",
       "      <td>1</td>\n",
       "      <td>0</td>\n",
       "      <td>0</td>\n",
       "      <td>0</td>\n",
       "      <td>0</td>\n",
       "      <td>0</td>\n",
       "      <td>0</td>\n",
       "      <td>0</td>\n",
       "      <td>0</td>\n",
       "      <td>0</td>\n",
       "      <td>...</td>\n",
       "      <td>0</td>\n",
       "      <td>0</td>\n",
       "      <td>0</td>\n",
       "      <td>0</td>\n",
       "      <td>0</td>\n",
       "      <td>0</td>\n",
       "      <td>0</td>\n",
       "      <td>0</td>\n",
       "      <td>0</td>\n",
       "      <td>0</td>\n",
       "    </tr>\n",
       "    <tr>\n",
       "      <th>2</th>\n",
       "      <td>1</td>\n",
       "      <td>0</td>\n",
       "      <td>0</td>\n",
       "      <td>0</td>\n",
       "      <td>0</td>\n",
       "      <td>0</td>\n",
       "      <td>0</td>\n",
       "      <td>0</td>\n",
       "      <td>0</td>\n",
       "      <td>0</td>\n",
       "      <td>...</td>\n",
       "      <td>0</td>\n",
       "      <td>0</td>\n",
       "      <td>0</td>\n",
       "      <td>0</td>\n",
       "      <td>0</td>\n",
       "      <td>0</td>\n",
       "      <td>0</td>\n",
       "      <td>0</td>\n",
       "      <td>0</td>\n",
       "      <td>0</td>\n",
       "    </tr>\n",
       "    <tr>\n",
       "      <th>3</th>\n",
       "      <td>1</td>\n",
       "      <td>0</td>\n",
       "      <td>0</td>\n",
       "      <td>0</td>\n",
       "      <td>0</td>\n",
       "      <td>0</td>\n",
       "      <td>0</td>\n",
       "      <td>0</td>\n",
       "      <td>0</td>\n",
       "      <td>0</td>\n",
       "      <td>...</td>\n",
       "      <td>0</td>\n",
       "      <td>0</td>\n",
       "      <td>0</td>\n",
       "      <td>0</td>\n",
       "      <td>0</td>\n",
       "      <td>0</td>\n",
       "      <td>0</td>\n",
       "      <td>0</td>\n",
       "      <td>0</td>\n",
       "      <td>0</td>\n",
       "    </tr>\n",
       "    <tr>\n",
       "      <th>4</th>\n",
       "      <td>1</td>\n",
       "      <td>0</td>\n",
       "      <td>0</td>\n",
       "      <td>0</td>\n",
       "      <td>0</td>\n",
       "      <td>0</td>\n",
       "      <td>0</td>\n",
       "      <td>0</td>\n",
       "      <td>0</td>\n",
       "      <td>0</td>\n",
       "      <td>...</td>\n",
       "      <td>0</td>\n",
       "      <td>0</td>\n",
       "      <td>0</td>\n",
       "      <td>0</td>\n",
       "      <td>0</td>\n",
       "      <td>0</td>\n",
       "      <td>0</td>\n",
       "      <td>0</td>\n",
       "      <td>0</td>\n",
       "      <td>0</td>\n",
       "    </tr>\n",
       "  </tbody>\n",
       "</table>\n",
       "<p>5 rows × 50 columns</p>\n",
       "</div>"
      ],
      "text/plain": [
       "    Folnegovićevo naselje  Borongaj  Bukovac  Centar  Donji Grad  Dubrava  \\\n",
       "0                       1         0        0       0           0        0   \n",
       "1                       1         0        0       0           0        0   \n",
       "2                       1         0        0       0           0        0   \n",
       "3                       1         0        0       0           0        0   \n",
       "4                       1         0        0       0           0        0   \n",
       "\n",
       "   Dugave  Gajnice  Gornji Grad  Gračani  ...  Vrapče  Vrbani  Vrbik  Zagreb  \\\n",
       "0       0        0            0        0  ...       0       0      0       0   \n",
       "1       0        0            0        0  ...       0       0      0       0   \n",
       "2       0        0            0        0  ...       0       0      0       0   \n",
       "3       0        0            0        0  ...       0       0      0       0   \n",
       "4       0        0            0        0  ...       0       0      0       0   \n",
       "\n",
       "   Zapruđe  other  Črnomerec  Šalata  Šestine  Špansko  \n",
       "0        0      0          0       0        0        0  \n",
       "1        0      0          0       0        0        0  \n",
       "2        0      0          0       0        0        0  \n",
       "3        0      0          0       0        0        0  \n",
       "4        0      0          0       0        0        0  \n",
       "\n",
       "[5 rows x 50 columns]"
      ]
     },
     "execution_count": 113,
     "metadata": {},
     "output_type": "execute_result"
    }
   ],
   "source": [
    "#function for creating dummy columns\n",
    "dummies = pd.get_dummies(df9.Location)\n",
    "dummies.head(5)"
   ]
  },
  {
   "cell_type": "code",
   "execution_count": 114,
   "metadata": {},
   "outputs": [
    {
     "data": {
      "text/html": [
       "<div>\n",
       "<style scoped>\n",
       "    .dataframe tbody tr th:only-of-type {\n",
       "        vertical-align: middle;\n",
       "    }\n",
       "\n",
       "    .dataframe tbody tr th {\n",
       "        vertical-align: top;\n",
       "    }\n",
       "\n",
       "    .dataframe thead th {\n",
       "        text-align: right;\n",
       "    }\n",
       "</style>\n",
       "<table border=\"1\" class=\"dataframe\">\n",
       "  <thead>\n",
       "    <tr style=\"text-align: right;\">\n",
       "      <th></th>\n",
       "      <th>Location</th>\n",
       "      <th>Price</th>\n",
       "      <th>Living_area</th>\n",
       "      <th>Rooms</th>\n",
       "      <th>Folnegovićevo naselje</th>\n",
       "      <th>Borongaj</th>\n",
       "      <th>Bukovac</th>\n",
       "      <th>Centar</th>\n",
       "      <th>Donji Grad</th>\n",
       "      <th>Dubrava</th>\n",
       "      <th>...</th>\n",
       "      <th>Voltino</th>\n",
       "      <th>Vrapče</th>\n",
       "      <th>Vrbani</th>\n",
       "      <th>Vrbik</th>\n",
       "      <th>Zagreb</th>\n",
       "      <th>Zapruđe</th>\n",
       "      <th>Črnomerec</th>\n",
       "      <th>Šalata</th>\n",
       "      <th>Šestine</th>\n",
       "      <th>Špansko</th>\n",
       "    </tr>\n",
       "  </thead>\n",
       "  <tbody>\n",
       "    <tr>\n",
       "      <th>0</th>\n",
       "      <td>Folnegovićevo naselje</td>\n",
       "      <td>110000</td>\n",
       "      <td>52</td>\n",
       "      <td>2.0</td>\n",
       "      <td>1</td>\n",
       "      <td>0</td>\n",
       "      <td>0</td>\n",
       "      <td>0</td>\n",
       "      <td>0</td>\n",
       "      <td>0</td>\n",
       "      <td>...</td>\n",
       "      <td>0</td>\n",
       "      <td>0</td>\n",
       "      <td>0</td>\n",
       "      <td>0</td>\n",
       "      <td>0</td>\n",
       "      <td>0</td>\n",
       "      <td>0</td>\n",
       "      <td>0</td>\n",
       "      <td>0</td>\n",
       "      <td>0</td>\n",
       "    </tr>\n",
       "    <tr>\n",
       "      <th>1</th>\n",
       "      <td>Folnegovićevo naselje</td>\n",
       "      <td>80000</td>\n",
       "      <td>48</td>\n",
       "      <td>2.0</td>\n",
       "      <td>1</td>\n",
       "      <td>0</td>\n",
       "      <td>0</td>\n",
       "      <td>0</td>\n",
       "      <td>0</td>\n",
       "      <td>0</td>\n",
       "      <td>...</td>\n",
       "      <td>0</td>\n",
       "      <td>0</td>\n",
       "      <td>0</td>\n",
       "      <td>0</td>\n",
       "      <td>0</td>\n",
       "      <td>0</td>\n",
       "      <td>0</td>\n",
       "      <td>0</td>\n",
       "      <td>0</td>\n",
       "      <td>0</td>\n",
       "    </tr>\n",
       "    <tr>\n",
       "      <th>2</th>\n",
       "      <td>Folnegovićevo naselje</td>\n",
       "      <td>115000</td>\n",
       "      <td>64</td>\n",
       "      <td>2.0</td>\n",
       "      <td>1</td>\n",
       "      <td>0</td>\n",
       "      <td>0</td>\n",
       "      <td>0</td>\n",
       "      <td>0</td>\n",
       "      <td>0</td>\n",
       "      <td>...</td>\n",
       "      <td>0</td>\n",
       "      <td>0</td>\n",
       "      <td>0</td>\n",
       "      <td>0</td>\n",
       "      <td>0</td>\n",
       "      <td>0</td>\n",
       "      <td>0</td>\n",
       "      <td>0</td>\n",
       "      <td>0</td>\n",
       "      <td>0</td>\n",
       "    </tr>\n",
       "    <tr>\n",
       "      <th>3</th>\n",
       "      <td>Folnegovićevo naselje</td>\n",
       "      <td>145000</td>\n",
       "      <td>65</td>\n",
       "      <td>3.0</td>\n",
       "      <td>1</td>\n",
       "      <td>0</td>\n",
       "      <td>0</td>\n",
       "      <td>0</td>\n",
       "      <td>0</td>\n",
       "      <td>0</td>\n",
       "      <td>...</td>\n",
       "      <td>0</td>\n",
       "      <td>0</td>\n",
       "      <td>0</td>\n",
       "      <td>0</td>\n",
       "      <td>0</td>\n",
       "      <td>0</td>\n",
       "      <td>0</td>\n",
       "      <td>0</td>\n",
       "      <td>0</td>\n",
       "      <td>0</td>\n",
       "    </tr>\n",
       "    <tr>\n",
       "      <th>4</th>\n",
       "      <td>Folnegovićevo naselje</td>\n",
       "      <td>100000</td>\n",
       "      <td>53</td>\n",
       "      <td>3.0</td>\n",
       "      <td>1</td>\n",
       "      <td>0</td>\n",
       "      <td>0</td>\n",
       "      <td>0</td>\n",
       "      <td>0</td>\n",
       "      <td>0</td>\n",
       "      <td>...</td>\n",
       "      <td>0</td>\n",
       "      <td>0</td>\n",
       "      <td>0</td>\n",
       "      <td>0</td>\n",
       "      <td>0</td>\n",
       "      <td>0</td>\n",
       "      <td>0</td>\n",
       "      <td>0</td>\n",
       "      <td>0</td>\n",
       "      <td>0</td>\n",
       "    </tr>\n",
       "  </tbody>\n",
       "</table>\n",
       "<p>5 rows × 53 columns</p>\n",
       "</div>"
      ],
      "text/plain": [
       "                 Location   Price  Living_area  Rooms   Folnegovićevo naselje  \\\n",
       "0   Folnegovićevo naselje  110000           52    2.0                       1   \n",
       "1   Folnegovićevo naselje   80000           48    2.0                       1   \n",
       "2   Folnegovićevo naselje  115000           64    2.0                       1   \n",
       "3   Folnegovićevo naselje  145000           65    3.0                       1   \n",
       "4   Folnegovićevo naselje  100000           53    3.0                       1   \n",
       "\n",
       "   Borongaj  Bukovac  Centar  Donji Grad  Dubrava  ...  Voltino  Vrapče  \\\n",
       "0         0        0       0           0        0  ...        0       0   \n",
       "1         0        0       0           0        0  ...        0       0   \n",
       "2         0        0       0           0        0  ...        0       0   \n",
       "3         0        0       0           0        0  ...        0       0   \n",
       "4         0        0       0           0        0  ...        0       0   \n",
       "\n",
       "   Vrbani  Vrbik  Zagreb  Zapruđe  Črnomerec  Šalata  Šestine  Špansko  \n",
       "0       0      0       0        0          0       0        0        0  \n",
       "1       0      0       0        0          0       0        0        0  \n",
       "2       0      0       0        0          0       0        0        0  \n",
       "3       0      0       0        0          0       0        0        0  \n",
       "4       0      0       0        0          0       0        0        0  \n",
       "\n",
       "[5 rows x 53 columns]"
      ]
     },
     "execution_count": 114,
     "metadata": {},
     "output_type": "execute_result"
    }
   ],
   "source": [
    "df10 = pd.concat([df9,dummies.drop(\"other\",axis=1)],axis=1)\n",
    "df10.head()"
   ]
  },
  {
   "cell_type": "code",
   "execution_count": 115,
   "metadata": {},
   "outputs": [
    {
     "data": {
      "text/html": [
       "<div>\n",
       "<style scoped>\n",
       "    .dataframe tbody tr th:only-of-type {\n",
       "        vertical-align: middle;\n",
       "    }\n",
       "\n",
       "    .dataframe tbody tr th {\n",
       "        vertical-align: top;\n",
       "    }\n",
       "\n",
       "    .dataframe thead th {\n",
       "        text-align: right;\n",
       "    }\n",
       "</style>\n",
       "<table border=\"1\" class=\"dataframe\">\n",
       "  <thead>\n",
       "    <tr style=\"text-align: right;\">\n",
       "      <th></th>\n",
       "      <th>Price</th>\n",
       "      <th>Living_area</th>\n",
       "      <th>Rooms</th>\n",
       "      <th>Folnegovićevo naselje</th>\n",
       "      <th>Borongaj</th>\n",
       "      <th>Bukovac</th>\n",
       "      <th>Centar</th>\n",
       "      <th>Donji Grad</th>\n",
       "      <th>Dubrava</th>\n",
       "      <th>Dugave</th>\n",
       "      <th>...</th>\n",
       "      <th>Voltino</th>\n",
       "      <th>Vrapče</th>\n",
       "      <th>Vrbani</th>\n",
       "      <th>Vrbik</th>\n",
       "      <th>Zagreb</th>\n",
       "      <th>Zapruđe</th>\n",
       "      <th>Črnomerec</th>\n",
       "      <th>Šalata</th>\n",
       "      <th>Šestine</th>\n",
       "      <th>Špansko</th>\n",
       "    </tr>\n",
       "  </thead>\n",
       "  <tbody>\n",
       "    <tr>\n",
       "      <th>0</th>\n",
       "      <td>110000</td>\n",
       "      <td>52</td>\n",
       "      <td>2.0</td>\n",
       "      <td>1</td>\n",
       "      <td>0</td>\n",
       "      <td>0</td>\n",
       "      <td>0</td>\n",
       "      <td>0</td>\n",
       "      <td>0</td>\n",
       "      <td>0</td>\n",
       "      <td>...</td>\n",
       "      <td>0</td>\n",
       "      <td>0</td>\n",
       "      <td>0</td>\n",
       "      <td>0</td>\n",
       "      <td>0</td>\n",
       "      <td>0</td>\n",
       "      <td>0</td>\n",
       "      <td>0</td>\n",
       "      <td>0</td>\n",
       "      <td>0</td>\n",
       "    </tr>\n",
       "    <tr>\n",
       "      <th>1</th>\n",
       "      <td>80000</td>\n",
       "      <td>48</td>\n",
       "      <td>2.0</td>\n",
       "      <td>1</td>\n",
       "      <td>0</td>\n",
       "      <td>0</td>\n",
       "      <td>0</td>\n",
       "      <td>0</td>\n",
       "      <td>0</td>\n",
       "      <td>0</td>\n",
       "      <td>...</td>\n",
       "      <td>0</td>\n",
       "      <td>0</td>\n",
       "      <td>0</td>\n",
       "      <td>0</td>\n",
       "      <td>0</td>\n",
       "      <td>0</td>\n",
       "      <td>0</td>\n",
       "      <td>0</td>\n",
       "      <td>0</td>\n",
       "      <td>0</td>\n",
       "    </tr>\n",
       "    <tr>\n",
       "      <th>2</th>\n",
       "      <td>115000</td>\n",
       "      <td>64</td>\n",
       "      <td>2.0</td>\n",
       "      <td>1</td>\n",
       "      <td>0</td>\n",
       "      <td>0</td>\n",
       "      <td>0</td>\n",
       "      <td>0</td>\n",
       "      <td>0</td>\n",
       "      <td>0</td>\n",
       "      <td>...</td>\n",
       "      <td>0</td>\n",
       "      <td>0</td>\n",
       "      <td>0</td>\n",
       "      <td>0</td>\n",
       "      <td>0</td>\n",
       "      <td>0</td>\n",
       "      <td>0</td>\n",
       "      <td>0</td>\n",
       "      <td>0</td>\n",
       "      <td>0</td>\n",
       "    </tr>\n",
       "    <tr>\n",
       "      <th>3</th>\n",
       "      <td>145000</td>\n",
       "      <td>65</td>\n",
       "      <td>3.0</td>\n",
       "      <td>1</td>\n",
       "      <td>0</td>\n",
       "      <td>0</td>\n",
       "      <td>0</td>\n",
       "      <td>0</td>\n",
       "      <td>0</td>\n",
       "      <td>0</td>\n",
       "      <td>...</td>\n",
       "      <td>0</td>\n",
       "      <td>0</td>\n",
       "      <td>0</td>\n",
       "      <td>0</td>\n",
       "      <td>0</td>\n",
       "      <td>0</td>\n",
       "      <td>0</td>\n",
       "      <td>0</td>\n",
       "      <td>0</td>\n",
       "      <td>0</td>\n",
       "    </tr>\n",
       "    <tr>\n",
       "      <th>4</th>\n",
       "      <td>100000</td>\n",
       "      <td>53</td>\n",
       "      <td>3.0</td>\n",
       "      <td>1</td>\n",
       "      <td>0</td>\n",
       "      <td>0</td>\n",
       "      <td>0</td>\n",
       "      <td>0</td>\n",
       "      <td>0</td>\n",
       "      <td>0</td>\n",
       "      <td>...</td>\n",
       "      <td>0</td>\n",
       "      <td>0</td>\n",
       "      <td>0</td>\n",
       "      <td>0</td>\n",
       "      <td>0</td>\n",
       "      <td>0</td>\n",
       "      <td>0</td>\n",
       "      <td>0</td>\n",
       "      <td>0</td>\n",
       "      <td>0</td>\n",
       "    </tr>\n",
       "  </tbody>\n",
       "</table>\n",
       "<p>5 rows × 52 columns</p>\n",
       "</div>"
      ],
      "text/plain": [
       "    Price  Living_area  Rooms   Folnegovićevo naselje  Borongaj  Bukovac  \\\n",
       "0  110000           52    2.0                       1         0        0   \n",
       "1   80000           48    2.0                       1         0        0   \n",
       "2  115000           64    2.0                       1         0        0   \n",
       "3  145000           65    3.0                       1         0        0   \n",
       "4  100000           53    3.0                       1         0        0   \n",
       "\n",
       "   Centar  Donji Grad  Dubrava  Dugave  ...  Voltino  Vrapče  Vrbani  Vrbik  \\\n",
       "0       0           0        0       0  ...        0       0       0      0   \n",
       "1       0           0        0       0  ...        0       0       0      0   \n",
       "2       0           0        0       0  ...        0       0       0      0   \n",
       "3       0           0        0       0  ...        0       0       0      0   \n",
       "4       0           0        0       0  ...        0       0       0      0   \n",
       "\n",
       "   Zagreb  Zapruđe  Črnomerec  Šalata  Šestine  Špansko  \n",
       "0       0        0          0       0        0        0  \n",
       "1       0        0          0       0        0        0  \n",
       "2       0        0          0       0        0        0  \n",
       "3       0        0          0       0        0        0  \n",
       "4       0        0          0       0        0        0  \n",
       "\n",
       "[5 rows x 52 columns]"
      ]
     },
     "execution_count": 115,
     "metadata": {},
     "output_type": "execute_result"
    }
   ],
   "source": [
    "df11= df10.drop(\"Location\",axis=1)\n",
    "df11.head()"
   ]
  },
  {
   "cell_type": "code",
   "execution_count": 116,
   "metadata": {},
   "outputs": [
    {
     "data": {
      "text/plain": [
       "(1442, 52)"
      ]
     },
     "execution_count": 116,
     "metadata": {},
     "output_type": "execute_result"
    }
   ],
   "source": [
    "df11.shape"
   ]
  },
  {
   "cell_type": "markdown",
   "metadata": {},
   "source": [
    "# Building model"
   ]
  },
  {
   "cell_type": "code",
   "execution_count": 117,
   "metadata": {},
   "outputs": [],
   "source": [
    "X=df11.drop([\"Price\"],axis=1)\n",
    "y=df11[\"Price\"]"
   ]
  },
  {
   "cell_type": "code",
   "execution_count": 118,
   "metadata": {},
   "outputs": [],
   "source": [
    "from sklearn.model_selection import train_test_split\n",
    "train_X,test_X,train_y,test_y=train_test_split(X,y,train_size=0.8,random_state=42)"
   ]
  },
  {
   "cell_type": "code",
   "execution_count": 119,
   "metadata": {},
   "outputs": [],
   "source": [
    "from sklearn.linear_model import LinearRegression"
   ]
  },
  {
   "cell_type": "code",
   "execution_count": 120,
   "metadata": {},
   "outputs": [],
   "source": [
    "lr=LinearRegression()"
   ]
  },
  {
   "cell_type": "code",
   "execution_count": 121,
   "metadata": {},
   "outputs": [
    {
     "data": {
      "text/plain": [
       "LinearRegression()"
      ]
     },
     "execution_count": 121,
     "metadata": {},
     "output_type": "execute_result"
    }
   ],
   "source": [
    "#fitting the model\n",
    "lr.fit(train_X,train_y)"
   ]
  },
  {
   "cell_type": "code",
   "execution_count": 122,
   "metadata": {},
   "outputs": [
    {
     "data": {
      "text/plain": [
       "0.9615458689611744"
      ]
     },
     "execution_count": 122,
     "metadata": {},
     "output_type": "execute_result"
    }
   ],
   "source": [
    "# Evaluate score of model\n",
    "lr.score(test_X,test_y)"
   ]
  },
  {
   "cell_type": "code",
   "execution_count": 123,
   "metadata": {},
   "outputs": [
    {
     "data": {
      "text/plain": [
       "array([0.95134387, 0.94940211, 0.93906137, 0.95797539, 0.9419962 ,\n",
       "       0.93122862, 0.95468813, 0.94223932, 0.90953955, 0.9529492 ])"
      ]
     },
     "execution_count": 123,
     "metadata": {},
     "output_type": "execute_result"
    }
   ],
   "source": [
    "from sklearn.model_selection import ShuffleSplit \n",
    "from sklearn.model_selection import cross_val_score\n",
    "\n",
    "cv = ShuffleSplit(n_splits=10, test_size=0.2, random_state=0) #randomize samples\n",
    "\n",
    "cross_val_score(LinearRegression(), X, y, cv=cv)"
   ]
  },
  {
   "cell_type": "code",
   "execution_count": 124,
   "metadata": {},
   "outputs": [],
   "source": [
    "from sklearn.model_selection import GridSearchCV\n",
    "from sklearn.linear_model import Lasso\n",
    "from sklearn.tree import DecisionTreeRegressor"
   ]
  },
  {
   "cell_type": "code",
   "execution_count": 125,
   "metadata": {},
   "outputs": [],
   "source": [
    "#function for searching best model\n",
    "def best_model(X,y):\n",
    "    algos = {\n",
    "        'linear_regression' : {\n",
    "            'model': LinearRegression(),\n",
    "            'params': {\n",
    "                'normalize': [True, False]\n",
    "            }\n",
    "        },\n",
    "        'lasso': {\n",
    "            'model': Lasso(),\n",
    "            'params': {\n",
    "                'alpha': [1,2],\n",
    "                'selection': ['random', 'cyclic']\n",
    "            }\n",
    "        },\n",
    "        'decision_tree': {\n",
    "            'model': DecisionTreeRegressor(),\n",
    "            'params': {\n",
    "                'criterion' : ['mse','friedman_mse'],\n",
    "                'splitter': ['best','random']\n",
    "            }\n",
    "        }\n",
    "    }\n",
    "    scores = []\n",
    "    cv = ShuffleSplit(n_splits=5, test_size=0.2, random_state=0)\n",
    "    for algo_name, config in algos.items():\n",
    "        gs =  GridSearchCV(config['model'], config['params'], cv=cv, return_train_score=False)\n",
    "        gs.fit(X,y)\n",
    "        scores.append({\n",
    "            'model': algo_name,\n",
    "            'best_score': gs.best_score_,\n",
    "            'best_params': gs.best_params_\n",
    "        })\n",
    "\n",
    "    return pd.DataFrame(scores,columns=['model','best_score','best_params'])"
   ]
  },
  {
   "cell_type": "code",
   "execution_count": 126,
   "metadata": {},
   "outputs": [
    {
     "data": {
      "text/html": [
       "<div>\n",
       "<style scoped>\n",
       "    .dataframe tbody tr th:only-of-type {\n",
       "        vertical-align: middle;\n",
       "    }\n",
       "\n",
       "    .dataframe tbody tr th {\n",
       "        vertical-align: top;\n",
       "    }\n",
       "\n",
       "    .dataframe thead th {\n",
       "        text-align: right;\n",
       "    }\n",
       "</style>\n",
       "<table border=\"1\" class=\"dataframe\">\n",
       "  <thead>\n",
       "    <tr style=\"text-align: right;\">\n",
       "      <th></th>\n",
       "      <th>model</th>\n",
       "      <th>best_score</th>\n",
       "      <th>best_params</th>\n",
       "    </tr>\n",
       "  </thead>\n",
       "  <tbody>\n",
       "    <tr>\n",
       "      <th>0</th>\n",
       "      <td>linear_regression</td>\n",
       "      <td>0.947956</td>\n",
       "      <td>{'normalize': True}</td>\n",
       "    </tr>\n",
       "    <tr>\n",
       "      <th>1</th>\n",
       "      <td>lasso</td>\n",
       "      <td>0.947992</td>\n",
       "      <td>{'alpha': 2, 'selection': 'random'}</td>\n",
       "    </tr>\n",
       "    <tr>\n",
       "      <th>2</th>\n",
       "      <td>decision_tree</td>\n",
       "      <td>0.923969</td>\n",
       "      <td>{'criterion': 'mse', 'splitter': 'random'}</td>\n",
       "    </tr>\n",
       "  </tbody>\n",
       "</table>\n",
       "</div>"
      ],
      "text/plain": [
       "               model  best_score                                 best_params\n",
       "0  linear_regression    0.947956                         {'normalize': True}\n",
       "1              lasso    0.947992         {'alpha': 2, 'selection': 'random'}\n",
       "2      decision_tree    0.923969  {'criterion': 'mse', 'splitter': 'random'}"
      ]
     },
     "execution_count": 126,
     "metadata": {},
     "output_type": "execute_result"
    }
   ],
   "source": [
    "best_model(X,y)"
   ]
  },
  {
   "cell_type": "markdown",
   "metadata": {},
   "source": [
    "Linear regression model and Lasso have the best accuracy. We are going to use Linear Regression model"
   ]
  },
  {
   "cell_type": "code",
   "execution_count": 127,
   "metadata": {},
   "outputs": [],
   "source": [
    "def predict_price(Location,living_area,rooms):    \n",
    "    loc_index = np.where(X.columns==Location)[0][0]\n",
    "\n",
    "    x = np.zeros(len(X.columns))\n",
    "    x[0] = living_area\n",
    "    x[1] = rooms\n",
    "    if loc_index >= 0:\n",
    "        x[loc_index] = 1\n",
    "\n",
    "    return lr.predict([x])[0]"
   ]
  },
  {
   "cell_type": "code",
   "execution_count": 135,
   "metadata": {},
   "outputs": [
    {
     "data": {
      "text/html": [
       "<div>\n",
       "<style scoped>\n",
       "    .dataframe tbody tr th:only-of-type {\n",
       "        vertical-align: middle;\n",
       "    }\n",
       "\n",
       "    .dataframe tbody tr th {\n",
       "        vertical-align: top;\n",
       "    }\n",
       "\n",
       "    .dataframe thead th {\n",
       "        text-align: right;\n",
       "    }\n",
       "</style>\n",
       "<table border=\"1\" class=\"dataframe\">\n",
       "  <thead>\n",
       "    <tr style=\"text-align: right;\">\n",
       "      <th></th>\n",
       "      <th>Location</th>\n",
       "      <th>Price</th>\n",
       "      <th>Living_area</th>\n",
       "      <th>Rooms</th>\n",
       "    </tr>\n",
       "  </thead>\n",
       "  <tbody>\n",
       "    <tr>\n",
       "      <th>534</th>\n",
       "      <td>Donji Grad</td>\n",
       "      <td>235000</td>\n",
       "      <td>87</td>\n",
       "      <td>3.0</td>\n",
       "    </tr>\n",
       "    <tr>\n",
       "      <th>1358</th>\n",
       "      <td>Medveščak</td>\n",
       "      <td>270000</td>\n",
       "      <td>80</td>\n",
       "      <td>2.0</td>\n",
       "    </tr>\n",
       "    <tr>\n",
       "      <th>1885</th>\n",
       "      <td>Utrina</td>\n",
       "      <td>87000</td>\n",
       "      <td>42</td>\n",
       "      <td>2.0</td>\n",
       "    </tr>\n",
       "    <tr>\n",
       "      <th>1819</th>\n",
       "      <td>Trešnjevka</td>\n",
       "      <td>190995</td>\n",
       "      <td>74</td>\n",
       "      <td>3.0</td>\n",
       "    </tr>\n",
       "    <tr>\n",
       "      <th>1282</th>\n",
       "      <td>Medveščak</td>\n",
       "      <td>385000</td>\n",
       "      <td>123</td>\n",
       "      <td>4.0</td>\n",
       "    </tr>\n",
       "  </tbody>\n",
       "</table>\n",
       "</div>"
      ],
      "text/plain": [
       "        Location   Price  Living_area  Rooms\n",
       "534   Donji Grad  235000           87    3.0\n",
       "1358   Medveščak  270000           80    2.0\n",
       "1885      Utrina   87000           42    2.0\n",
       "1819  Trešnjevka  190995           74    3.0\n",
       "1282   Medveščak  385000          123    4.0"
      ]
     },
     "execution_count": 135,
     "metadata": {},
     "output_type": "execute_result"
    }
   ],
   "source": [
    "df9.sample(5)"
   ]
  },
  {
   "cell_type": "code",
   "execution_count": 136,
   "metadata": {
    "scrolled": false
   },
   "outputs": [
    {
     "name": "stdout",
     "output_type": "stream",
     "text": [
      "Donji Grad: 261444.02\n",
      "Medveščaka: 256844.92\n",
      "Utrina: 67531.97\n",
      "Trešnjevka: 183195.85\n",
      "Medveščak: 370212.85\n"
     ]
    }
   ],
   "source": [
    "print(\"Donji Grad:\",round(predict_price(\"Donji Grad\",87,3),2))\n",
    "print(\"Medveščaka:\",round(predict_price(\"Medveščak\",80,2),2))\n",
    "print(\"Utrina:\",round(predict_price(\"Utrina\",42,2),2))\n",
    "print(\"Trešnjevka:\",round(predict_price(\"Trešnjevka\",74,3),2))\n",
    "print(\"Medveščak:\",round(predict_price(\"Medveščak\",123,4),2))"
   ]
  },
  {
   "cell_type": "code",
   "execution_count": 146,
   "metadata": {},
   "outputs": [],
   "source": [
    "pred=lr.predict(test_X)"
   ]
  },
  {
   "cell_type": "code",
   "execution_count": 151,
   "metadata": {},
   "outputs": [
    {
     "data": {
      "text/html": [
       "<div>\n",
       "<style scoped>\n",
       "    .dataframe tbody tr th:only-of-type {\n",
       "        vertical-align: middle;\n",
       "    }\n",
       "\n",
       "    .dataframe tbody tr th {\n",
       "        vertical-align: top;\n",
       "    }\n",
       "\n",
       "    .dataframe thead th {\n",
       "        text-align: right;\n",
       "    }\n",
       "</style>\n",
       "<table border=\"1\" class=\"dataframe\">\n",
       "  <thead>\n",
       "    <tr style=\"text-align: right;\">\n",
       "      <th></th>\n",
       "      <th>Actual</th>\n",
       "      <th>Predicted</th>\n",
       "    </tr>\n",
       "  </thead>\n",
       "  <tbody>\n",
       "    <tr>\n",
       "      <th>494</th>\n",
       "      <td>135000</td>\n",
       "      <td>137818.18</td>\n",
       "    </tr>\n",
       "    <tr>\n",
       "      <th>100</th>\n",
       "      <td>209999</td>\n",
       "      <td>217437.11</td>\n",
       "    </tr>\n",
       "    <tr>\n",
       "      <th>1518</th>\n",
       "      <td>94000</td>\n",
       "      <td>65111.17</td>\n",
       "    </tr>\n",
       "    <tr>\n",
       "      <th>1345</th>\n",
       "      <td>320000</td>\n",
       "      <td>306586.71</td>\n",
       "    </tr>\n",
       "    <tr>\n",
       "      <th>1733</th>\n",
       "      <td>213078</td>\n",
       "      <td>206276.13</td>\n",
       "    </tr>\n",
       "    <tr>\n",
       "      <th>975</th>\n",
       "      <td>74550</td>\n",
       "      <td>73257.67</td>\n",
       "    </tr>\n",
       "    <tr>\n",
       "      <th>782</th>\n",
       "      <td>132933</td>\n",
       "      <td>121518.84</td>\n",
       "    </tr>\n",
       "    <tr>\n",
       "      <th>731</th>\n",
       "      <td>120000</td>\n",
       "      <td>115373.15</td>\n",
       "    </tr>\n",
       "    <tr>\n",
       "      <th>941</th>\n",
       "      <td>125000</td>\n",
       "      <td>134284.48</td>\n",
       "    </tr>\n",
       "    <tr>\n",
       "      <th>1919</th>\n",
       "      <td>200706</td>\n",
       "      <td>180207.20</td>\n",
       "    </tr>\n",
       "    <tr>\n",
       "      <th>653</th>\n",
       "      <td>278000</td>\n",
       "      <td>247073.91</td>\n",
       "    </tr>\n",
       "    <tr>\n",
       "      <th>68</th>\n",
       "      <td>498000</td>\n",
       "      <td>464157.80</td>\n",
       "    </tr>\n",
       "    <tr>\n",
       "      <th>1267</th>\n",
       "      <td>295000</td>\n",
       "      <td>312246.65</td>\n",
       "    </tr>\n",
       "    <tr>\n",
       "      <th>1524</th>\n",
       "      <td>195000</td>\n",
       "      <td>233349.85</td>\n",
       "    </tr>\n",
       "    <tr>\n",
       "      <th>467</th>\n",
       "      <td>284900</td>\n",
       "      <td>269137.45</td>\n",
       "    </tr>\n",
       "    <tr>\n",
       "      <th>2264</th>\n",
       "      <td>430000</td>\n",
       "      <td>425358.16</td>\n",
       "    </tr>\n",
       "    <tr>\n",
       "      <th>1907</th>\n",
       "      <td>85000</td>\n",
       "      <td>83231.40</td>\n",
       "    </tr>\n",
       "    <tr>\n",
       "      <th>1171</th>\n",
       "      <td>132500</td>\n",
       "      <td>120558.34</td>\n",
       "    </tr>\n",
       "    <tr>\n",
       "      <th>594</th>\n",
       "      <td>333000</td>\n",
       "      <td>322991.45</td>\n",
       "    </tr>\n",
       "    <tr>\n",
       "      <th>1439</th>\n",
       "      <td>120000</td>\n",
       "      <td>125890.73</td>\n",
       "    </tr>\n",
       "  </tbody>\n",
       "</table>\n",
       "</div>"
      ],
      "text/plain": [
       "      Actual  Predicted\n",
       "494   135000  137818.18\n",
       "100   209999  217437.11\n",
       "1518   94000   65111.17\n",
       "1345  320000  306586.71\n",
       "1733  213078  206276.13\n",
       "975    74550   73257.67\n",
       "782   132933  121518.84\n",
       "731   120000  115373.15\n",
       "941   125000  134284.48\n",
       "1919  200706  180207.20\n",
       "653   278000  247073.91\n",
       "68    498000  464157.80\n",
       "1267  295000  312246.65\n",
       "1524  195000  233349.85\n",
       "467   284900  269137.45\n",
       "2264  430000  425358.16\n",
       "1907   85000   83231.40\n",
       "1171  132500  120558.34\n",
       "594   333000  322991.45\n",
       "1439  120000  125890.73"
      ]
     },
     "execution_count": 151,
     "metadata": {},
     "output_type": "execute_result"
    }
   ],
   "source": [
    "df = pd.DataFrame({'Actual': test_y, \n",
    "                   'Predicted':pred})\n",
    "df[\"Predicted\"]=round(df[\"Predicted\"],2)\n",
    "df.sample(20)"
   ]
  },
  {
   "cell_type": "markdown",
   "metadata": {},
   "source": [
    "We can see that our model predicted pretty good."
   ]
  },
  {
   "cell_type": "markdown",
   "metadata": {},
   "source": [
    "## RMSE"
   ]
  },
  {
   "cell_type": "code",
   "execution_count": 148,
   "metadata": {},
   "outputs": [
    {
     "data": {
      "text/plain": [
       "34725.43493206498"
      ]
     },
     "execution_count": 148,
     "metadata": {},
     "output_type": "execute_result"
    }
   ],
   "source": [
    "test_mse=mean_squared_error(pred,test_y)\n",
    "test_rmse=test_mse**(1/2)\n",
    "test_rmse"
   ]
  }
 ],
 "metadata": {
  "kernelspec": {
   "display_name": "Python 3",
   "language": "python",
   "name": "python3"
  },
  "language_info": {
   "codemirror_mode": {
    "name": "ipython",
    "version": 3
   },
   "file_extension": ".py",
   "mimetype": "text/x-python",
   "name": "python",
   "nbconvert_exporter": "python",
   "pygments_lexer": "ipython3",
   "version": "3.8.5"
  }
 },
 "nbformat": 4,
 "nbformat_minor": 4
}
